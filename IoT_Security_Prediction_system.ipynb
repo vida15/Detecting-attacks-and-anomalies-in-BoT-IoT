{
  "cells": [
    {
      "cell_type": "code",
      "execution_count": null,
      "metadata": {
        "colab": {
          "base_uri": "https://localhost:8080/"
        },
        "id": "nN_It4OfLf-T",
        "outputId": "66b85a0e-cde8-4c05-e09f-c58183abcc37"
      },
      "outputs": [
        {
          "output_type": "stream",
          "name": "stdout",
          "text": [
            "Mounted at /content/drive\n"
          ]
        }
      ],
      "source": [
        "from google.colab import drive\n",
        "drive.mount('/content/drive')"
      ]
    },
    {
      "cell_type": "markdown",
      "metadata": {
        "id": "WJ0tLCSnstL_"
      },
      "source": [
        "<h1><center><b>IoT + AI Use case study: Detecting attacks and anomolies in BoT IoT </b></center></h1>"
      ]
    },
    {
      "cell_type": "markdown",
      "metadata": {
        "id": "swWqGhSIwm1V"
      },
      "source": [
        "# Import Libraries"
      ]
    },
    {
      "cell_type": "code",
      "execution_count": null,
      "metadata": {
        "id": "mhs2EfCnstML"
      },
      "outputs": [],
      "source": [
        "# Importing necessary libraries\n",
        "import numpy as np\n",
        "import pandas as pd\n",
        "import matplotlib.pyplot as plt\n",
        "import seaborn as sns\n",
        "\n",
        "from sklearn.preprocessing import LabelEncoder, StandardScaler\n",
        "from sklearn.model_selection import train_test_split\n",
        "from sklearn.ensemble import RandomForestClassifier\n",
        "from sklearn.naive_bayes import GaussianNB\n",
        "from sklearn.neighbors import KNeighborsClassifier\n",
        "from sklearn.tree import DecisionTreeClassifier\n",
        "\n",
        "from xgboost import XGBClassifier\n",
        "\n",
        "from sklearn import preprocessing\n",
        "from sklearn.metrics import confusion_matrix, classification_report\n",
        "\n",
        "%matplotlib inline"
      ]
    },
    {
      "cell_type": "code",
      "execution_count": null,
      "metadata": {
        "id": "dN7DlidqstMP"
      },
      "outputs": [],
      "source": [
        "import warnings\n",
        "warnings.filterwarnings('ignore')"
      ]
    },
    {
      "cell_type": "markdown",
      "metadata": {
        "id": "w50Y72cowqGN"
      },
      "source": [
        "# Import data sets"
      ]
    },
    {
      "cell_type": "markdown",
      "metadata": {
        "id": "GlyWGz7TVL57"
      },
      "source": [
        "https://cloudstor.aarnet.edu.au/\n",
        "|"
      ]
    },
    {
      "cell_type": "code",
      "execution_count": null,
      "metadata": {
        "colab": {
          "base_uri": "https://localhost:8080/",
          "height": 299
        },
        "id": "HCa9AqJcstMQ",
        "outputId": "e24ce3c8-a96e-4978-d3e5-f999c84c7491"
      },
      "outputs": [
        {
          "output_type": "execute_result",
          "data": {
            "text/plain": [
              "   pkSeqID         stime flgs  flgs_number proto  proto_number  \\\n",
              "0        1  1.528089e+09    e            1   tcp             1   \n",
              "1        2  1.528089e+09    e            1   arp             2   \n",
              "2        3  1.528089e+09    e            1   tcp             1   \n",
              "3        4  1.528089e+09    e            1   tcp             1   \n",
              "4        5  1.528089e+09    e            1   tcp             1   \n",
              "\n",
              "             saddr  sport            daddr dport  ...  AR_P_Proto_P_DstIP  \\\n",
              "0  192.168.100.147  49960    192.168.100.7    80  ...             1.12704   \n",
              "1    192.168.100.7     -1  192.168.100.147    -1  ...         15267.20000   \n",
              "2  192.168.100.147  49962    192.168.100.7    80  ...             1.12704   \n",
              "3  192.168.100.147  49964    192.168.100.7    80  ...             1.12704   \n",
              "4  192.168.100.147  49966    192.168.100.7    80  ...             1.12704   \n",
              "\n",
              "   N_IN_Conn_P_DstIP N_IN_Conn_P_SrcIP  AR_P_Proto_P_Sport  \\\n",
              "0                 96                75            1.133720   \n",
              "1                  1                 2            0.005142   \n",
              "2                 96                75            1.135100   \n",
              "3                 96                75            1.135140   \n",
              "4                 96                75            1.135260   \n",
              "\n",
              "   AR_P_Proto_P_Dport  Pkts_P_State_P_Protocol_P_DestIP  \\\n",
              "0            1.129970                               770   \n",
              "1            0.005142                                 2   \n",
              "2            1.129970                               770   \n",
              "3            1.129970                               770   \n",
              "4            1.129970                               770   \n",
              "\n",
              "   Pkts_P_State_P_Protocol_P_SrcIP  attack  category  subcategory  \n",
              "0                              602       1       DoS         HTTP  \n",
              "1                                6       1       DoS         HTTP  \n",
              "2                              602       1       DoS         HTTP  \n",
              "3                              602       1       DoS         HTTP  \n",
              "4                              602       1       DoS         HTTP  \n",
              "\n",
              "[5 rows x 46 columns]"
            ],
            "text/html": [
              "\n",
              "  <div id=\"df-0fb8d462-9315-479d-8872-abc5a5ce6871\">\n",
              "    <div class=\"colab-df-container\">\n",
              "      <div>\n",
              "<style scoped>\n",
              "    .dataframe tbody tr th:only-of-type {\n",
              "        vertical-align: middle;\n",
              "    }\n",
              "\n",
              "    .dataframe tbody tr th {\n",
              "        vertical-align: top;\n",
              "    }\n",
              "\n",
              "    .dataframe thead th {\n",
              "        text-align: right;\n",
              "    }\n",
              "</style>\n",
              "<table border=\"1\" class=\"dataframe\">\n",
              "  <thead>\n",
              "    <tr style=\"text-align: right;\">\n",
              "      <th></th>\n",
              "      <th>pkSeqID</th>\n",
              "      <th>stime</th>\n",
              "      <th>flgs</th>\n",
              "      <th>flgs_number</th>\n",
              "      <th>proto</th>\n",
              "      <th>proto_number</th>\n",
              "      <th>saddr</th>\n",
              "      <th>sport</th>\n",
              "      <th>daddr</th>\n",
              "      <th>dport</th>\n",
              "      <th>...</th>\n",
              "      <th>AR_P_Proto_P_DstIP</th>\n",
              "      <th>N_IN_Conn_P_DstIP</th>\n",
              "      <th>N_IN_Conn_P_SrcIP</th>\n",
              "      <th>AR_P_Proto_P_Sport</th>\n",
              "      <th>AR_P_Proto_P_Dport</th>\n",
              "      <th>Pkts_P_State_P_Protocol_P_DestIP</th>\n",
              "      <th>Pkts_P_State_P_Protocol_P_SrcIP</th>\n",
              "      <th>attack</th>\n",
              "      <th>category</th>\n",
              "      <th>subcategory</th>\n",
              "    </tr>\n",
              "  </thead>\n",
              "  <tbody>\n",
              "    <tr>\n",
              "      <th>0</th>\n",
              "      <td>1</td>\n",
              "      <td>1.528089e+09</td>\n",
              "      <td>e</td>\n",
              "      <td>1</td>\n",
              "      <td>tcp</td>\n",
              "      <td>1</td>\n",
              "      <td>192.168.100.147</td>\n",
              "      <td>49960</td>\n",
              "      <td>192.168.100.7</td>\n",
              "      <td>80</td>\n",
              "      <td>...</td>\n",
              "      <td>1.12704</td>\n",
              "      <td>96</td>\n",
              "      <td>75</td>\n",
              "      <td>1.133720</td>\n",
              "      <td>1.129970</td>\n",
              "      <td>770</td>\n",
              "      <td>602</td>\n",
              "      <td>1</td>\n",
              "      <td>DoS</td>\n",
              "      <td>HTTP</td>\n",
              "    </tr>\n",
              "    <tr>\n",
              "      <th>1</th>\n",
              "      <td>2</td>\n",
              "      <td>1.528089e+09</td>\n",
              "      <td>e</td>\n",
              "      <td>1</td>\n",
              "      <td>arp</td>\n",
              "      <td>2</td>\n",
              "      <td>192.168.100.7</td>\n",
              "      <td>-1</td>\n",
              "      <td>192.168.100.147</td>\n",
              "      <td>-1</td>\n",
              "      <td>...</td>\n",
              "      <td>15267.20000</td>\n",
              "      <td>1</td>\n",
              "      <td>2</td>\n",
              "      <td>0.005142</td>\n",
              "      <td>0.005142</td>\n",
              "      <td>2</td>\n",
              "      <td>6</td>\n",
              "      <td>1</td>\n",
              "      <td>DoS</td>\n",
              "      <td>HTTP</td>\n",
              "    </tr>\n",
              "    <tr>\n",
              "      <th>2</th>\n",
              "      <td>3</td>\n",
              "      <td>1.528089e+09</td>\n",
              "      <td>e</td>\n",
              "      <td>1</td>\n",
              "      <td>tcp</td>\n",
              "      <td>1</td>\n",
              "      <td>192.168.100.147</td>\n",
              "      <td>49962</td>\n",
              "      <td>192.168.100.7</td>\n",
              "      <td>80</td>\n",
              "      <td>...</td>\n",
              "      <td>1.12704</td>\n",
              "      <td>96</td>\n",
              "      <td>75</td>\n",
              "      <td>1.135100</td>\n",
              "      <td>1.129970</td>\n",
              "      <td>770</td>\n",
              "      <td>602</td>\n",
              "      <td>1</td>\n",
              "      <td>DoS</td>\n",
              "      <td>HTTP</td>\n",
              "    </tr>\n",
              "    <tr>\n",
              "      <th>3</th>\n",
              "      <td>4</td>\n",
              "      <td>1.528089e+09</td>\n",
              "      <td>e</td>\n",
              "      <td>1</td>\n",
              "      <td>tcp</td>\n",
              "      <td>1</td>\n",
              "      <td>192.168.100.147</td>\n",
              "      <td>49964</td>\n",
              "      <td>192.168.100.7</td>\n",
              "      <td>80</td>\n",
              "      <td>...</td>\n",
              "      <td>1.12704</td>\n",
              "      <td>96</td>\n",
              "      <td>75</td>\n",
              "      <td>1.135140</td>\n",
              "      <td>1.129970</td>\n",
              "      <td>770</td>\n",
              "      <td>602</td>\n",
              "      <td>1</td>\n",
              "      <td>DoS</td>\n",
              "      <td>HTTP</td>\n",
              "    </tr>\n",
              "    <tr>\n",
              "      <th>4</th>\n",
              "      <td>5</td>\n",
              "      <td>1.528089e+09</td>\n",
              "      <td>e</td>\n",
              "      <td>1</td>\n",
              "      <td>tcp</td>\n",
              "      <td>1</td>\n",
              "      <td>192.168.100.147</td>\n",
              "      <td>49966</td>\n",
              "      <td>192.168.100.7</td>\n",
              "      <td>80</td>\n",
              "      <td>...</td>\n",
              "      <td>1.12704</td>\n",
              "      <td>96</td>\n",
              "      <td>75</td>\n",
              "      <td>1.135260</td>\n",
              "      <td>1.129970</td>\n",
              "      <td>770</td>\n",
              "      <td>602</td>\n",
              "      <td>1</td>\n",
              "      <td>DoS</td>\n",
              "      <td>HTTP</td>\n",
              "    </tr>\n",
              "  </tbody>\n",
              "</table>\n",
              "<p>5 rows × 46 columns</p>\n",
              "</div>\n",
              "      <button class=\"colab-df-convert\" onclick=\"convertToInteractive('df-0fb8d462-9315-479d-8872-abc5a5ce6871')\"\n",
              "              title=\"Convert this dataframe to an interactive table.\"\n",
              "              style=\"display:none;\">\n",
              "        \n",
              "  <svg xmlns=\"http://www.w3.org/2000/svg\" height=\"24px\"viewBox=\"0 0 24 24\"\n",
              "       width=\"24px\">\n",
              "    <path d=\"M0 0h24v24H0V0z\" fill=\"none\"/>\n",
              "    <path d=\"M18.56 5.44l.94 2.06.94-2.06 2.06-.94-2.06-.94-.94-2.06-.94 2.06-2.06.94zm-11 1L8.5 8.5l.94-2.06 2.06-.94-2.06-.94L8.5 2.5l-.94 2.06-2.06.94zm10 10l.94 2.06.94-2.06 2.06-.94-2.06-.94-.94-2.06-.94 2.06-2.06.94z\"/><path d=\"M17.41 7.96l-1.37-1.37c-.4-.4-.92-.59-1.43-.59-.52 0-1.04.2-1.43.59L10.3 9.45l-7.72 7.72c-.78.78-.78 2.05 0 2.83L4 21.41c.39.39.9.59 1.41.59.51 0 1.02-.2 1.41-.59l7.78-7.78 2.81-2.81c.8-.78.8-2.07 0-2.86zM5.41 20L4 18.59l7.72-7.72 1.47 1.35L5.41 20z\"/>\n",
              "  </svg>\n",
              "      </button>\n",
              "      \n",
              "  <style>\n",
              "    .colab-df-container {\n",
              "      display:flex;\n",
              "      flex-wrap:wrap;\n",
              "      gap: 12px;\n",
              "    }\n",
              "\n",
              "    .colab-df-convert {\n",
              "      background-color: #E8F0FE;\n",
              "      border: none;\n",
              "      border-radius: 50%;\n",
              "      cursor: pointer;\n",
              "      display: none;\n",
              "      fill: #1967D2;\n",
              "      height: 32px;\n",
              "      padding: 0 0 0 0;\n",
              "      width: 32px;\n",
              "    }\n",
              "\n",
              "    .colab-df-convert:hover {\n",
              "      background-color: #E2EBFA;\n",
              "      box-shadow: 0px 1px 2px rgba(60, 64, 67, 0.3), 0px 1px 3px 1px rgba(60, 64, 67, 0.15);\n",
              "      fill: #174EA6;\n",
              "    }\n",
              "\n",
              "    [theme=dark] .colab-df-convert {\n",
              "      background-color: #3B4455;\n",
              "      fill: #D2E3FC;\n",
              "    }\n",
              "\n",
              "    [theme=dark] .colab-df-convert:hover {\n",
              "      background-color: #434B5C;\n",
              "      box-shadow: 0px 1px 3px 1px rgba(0, 0, 0, 0.15);\n",
              "      filter: drop-shadow(0px 1px 2px rgba(0, 0, 0, 0.3));\n",
              "      fill: #FFFFFF;\n",
              "    }\n",
              "  </style>\n",
              "\n",
              "      <script>\n",
              "        const buttonEl =\n",
              "          document.querySelector('#df-0fb8d462-9315-479d-8872-abc5a5ce6871 button.colab-df-convert');\n",
              "        buttonEl.style.display =\n",
              "          google.colab.kernel.accessAllowed ? 'block' : 'none';\n",
              "\n",
              "        async function convertToInteractive(key) {\n",
              "          const element = document.querySelector('#df-0fb8d462-9315-479d-8872-abc5a5ce6871');\n",
              "          const dataTable =\n",
              "            await google.colab.kernel.invokeFunction('convertToInteractive',\n",
              "                                                     [key], {});\n",
              "          if (!dataTable) return;\n",
              "\n",
              "          const docLinkHtml = 'Like what you see? Visit the ' +\n",
              "            '<a target=\"_blank\" href=https://colab.research.google.com/notebooks/data_table.ipynb>data table notebook</a>'\n",
              "            + ' to learn more about interactive tables.';\n",
              "          element.innerHTML = '';\n",
              "          dataTable['output_type'] = 'display_data';\n",
              "          await google.colab.output.renderOutput(dataTable, element);\n",
              "          const docLink = document.createElement('div');\n",
              "          docLink.innerHTML = docLinkHtml;\n",
              "          element.appendChild(docLink);\n",
              "        }\n",
              "      </script>\n",
              "    </div>\n",
              "  </div>\n",
              "  "
            ]
          },
          "metadata": {},
          "execution_count": 4
        }
      ],
      "source": [
        "# Training Dataset\n",
        "data_path1 = 'https://cloudstor.aarnet.edu.au/plus/s/umT99TnxvbpkkoE/download?path=%2FCSV%2FTraning%20and%20Testing%20Tets%20(5%25%20of%20the%20entier%20dataset)%2FAll%20features&files=UNSW_2018_IoT_Botnet_Full5pc_1.csv'\n",
        "\n",
        "data_path2 = 'https://cloudstor.aarnet.edu.au/plus/s/umT99TnxvbpkkoE/download?path=%2FCSV%2FTraning%20and%20Testing%20Tets%20(5%25%20of%20the%20entier%20dataset)%2FAll%20features&files=UNSW_2018_IoT_Botnet_Full5pc_2.csv'\n",
        "\n",
        "data_path3 = 'https://cloudstor.aarnet.edu.au/plus/s/umT99TnxvbpkkoE/download?path=%2FCSV%2FTraning%20and%20Testing%20Tets%20(5%25%20of%20the%20entier%20dataset)%2FAll%20features&files=UNSW_2018_IoT_Botnet_Full5pc_3.csv'\n",
        "\n",
        "data_path4 = 'https://cloudstor.aarnet.edu.au/plus/s/umT99TnxvbpkkoE/download?path=%2FCSV%2FTraning%20and%20Testing%20Tets%20(5%25%20of%20the%20entier%20dataset)%2FAll%20features&files=UNSW_2018_IoT_Botnet_Full5pc_4.csv'\n",
        "\n",
        "data1 = pd.read_csv(data_path1)\n",
        "data2 = pd.read_csv(data_path2)\n",
        "data3 = pd.read_csv(data_path3)\n",
        "data4 = pd.read_csv(data_path4)\n",
        "\n",
        "data = pd.concat([data1, data2, data3, data4])\n",
        "\n",
        "data.head()"
      ]
    },
    {
      "cell_type": "markdown",
      "metadata": {
        "id": "7BA9NwvYwsmU"
      },
      "source": [
        "# Data analysis"
      ]
    },
    {
      "cell_type": "code",
      "execution_count": null,
      "metadata": {
        "colab": {
          "base_uri": "https://localhost:8080/"
        },
        "id": "Ka6-w3DTstMS",
        "outputId": "d12561ca-670e-469f-d6cb-ad7d2f0b3e13"
      },
      "outputs": [
        {
          "output_type": "stream",
          "name": "stdout",
          "text": [
            "<class 'pandas.core.frame.DataFrame'>\n",
            "Int64Index: 3668522 entries, 0 to 668521\n",
            "Data columns (total 46 columns):\n",
            " #   Column                            Dtype  \n",
            "---  ------                            -----  \n",
            " 0   pkSeqID                           int64  \n",
            " 1   stime                             float64\n",
            " 2   flgs                              object \n",
            " 3   flgs_number                       int64  \n",
            " 4   proto                             object \n",
            " 5   proto_number                      int64  \n",
            " 6   saddr                             object \n",
            " 7   sport                             object \n",
            " 8   daddr                             object \n",
            " 9   dport                             object \n",
            " 10  pkts                              int64  \n",
            " 11  bytes                             int64  \n",
            " 12  state                             object \n",
            " 13  state_number                      int64  \n",
            " 14  ltime                             float64\n",
            " 15  seq                               int64  \n",
            " 16  dur                               float64\n",
            " 17  mean                              float64\n",
            " 18  stddev                            float64\n",
            " 19  sum                               float64\n",
            " 20  min                               float64\n",
            " 21  max                               float64\n",
            " 22  spkts                             int64  \n",
            " 23  dpkts                             int64  \n",
            " 24  sbytes                            int64  \n",
            " 25  dbytes                            int64  \n",
            " 26  rate                              float64\n",
            " 27  srate                             float64\n",
            " 28  drate                             float64\n",
            " 29  TnBPSrcIP                         int64  \n",
            " 30  TnBPDstIP                         int64  \n",
            " 31  TnP_PSrcIP                        int64  \n",
            " 32  TnP_PDstIP                        int64  \n",
            " 33  TnP_PerProto                      int64  \n",
            " 34  TnP_Per_Dport                     int64  \n",
            " 35  AR_P_Proto_P_SrcIP                float64\n",
            " 36  AR_P_Proto_P_DstIP                float64\n",
            " 37  N_IN_Conn_P_DstIP                 int64  \n",
            " 38  N_IN_Conn_P_SrcIP                 int64  \n",
            " 39  AR_P_Proto_P_Sport                float64\n",
            " 40  AR_P_Proto_P_Dport                float64\n",
            " 41  Pkts_P_State_P_Protocol_P_DestIP  int64  \n",
            " 42  Pkts_P_State_P_Protocol_P_SrcIP   int64  \n",
            " 43  attack                            int64  \n",
            " 44  category                          object \n",
            " 45  subcategory                       object \n",
            "dtypes: float64(15), int64(22), object(9)\n",
            "memory usage: 1.3+ GB\n"
          ]
        }
      ],
      "source": [
        "# General Information about the data\n",
        "data.info()"
      ]
    },
    {
      "cell_type": "markdown",
      "metadata": {
        "id": "JT5dEVYbstMT"
      },
      "source": [
        "## Exploratory Data Analysis"
      ]
    },
    {
      "cell_type": "code",
      "execution_count": null,
      "metadata": {
        "colab": {
          "base_uri": "https://localhost:8080/",
          "height": 393
        },
        "id": "IQNw1X5GstMT",
        "outputId": "6fbce164-c601-423c-e222-fd03a0f22d28"
      },
      "outputs": [
        {
          "output_type": "execute_result",
          "data": {
            "text/plain": [
              "            pkSeqID         stime   flgs_number  proto_number          pkts  \\\n",
              "count  3.668522e+06  3.668522e+06  3.668522e+06  3.668522e+06  3.668522e+06   \n",
              "mean   1.834262e+06  1.528050e+09  1.490206e+00  2.095884e+00  7.725963e+00   \n",
              "std    1.059011e+06  2.581498e+05  8.652444e-01  9.990837e-01  1.155876e+02   \n",
              "min    1.000000e+00  1.526344e+09  1.000000e+00  1.000000e+00  1.000000e+00   \n",
              "25%    9.171312e+05  1.528085e+09  1.000000e+00  1.000000e+00  5.000000e+00   \n",
              "50%    1.834262e+06  1.528096e+09  1.000000e+00  3.000000e+00  7.000000e+00   \n",
              "75%    2.751392e+06  1.528099e+09  2.000000e+00  3.000000e+00  9.000000e+00   \n",
              "max    3.668522e+06  1.529381e+09  9.000000e+00  5.000000e+00  7.005700e+04   \n",
              "\n",
              "              bytes  state_number         ltime           seq           dur  \\\n",
              "count  3.668522e+06  3.668522e+06  3.668522e+06  3.668522e+06  3.668522e+06   \n",
              "mean   8.690501e+02  3.134390e+00  1.528050e+09  1.213204e+05  2.033479e+01   \n",
              "std    1.122667e+05  1.186971e+00  2.581507e+05  7.579428e+04  2.148764e+01   \n",
              "min    6.000000e+01  1.000000e+00  1.526344e+09  1.000000e+00  0.000000e+00   \n",
              "25%    4.200000e+02  3.000000e+00  1.528085e+09  5.487600e+04  1.256256e+01   \n",
              "50%    6.000000e+02  4.000000e+00  1.528096e+09  1.177690e+05  1.550852e+01   \n",
              "75%    7.700000e+02  4.000000e+00  1.528099e+09  1.849300e+05  2.709986e+01   \n",
              "max    7.183334e+07  1.100000e+01  1.529382e+09  2.622120e+05  2.771485e+03   \n",
              "\n",
              "       ...  TnP_Per_Dport  AR_P_Proto_P_SrcIP  AR_P_Proto_P_DstIP  \\\n",
              "count  ...   3.668522e+06        3.668522e+06        3.668522e+06   \n",
              "mean   ...   7.369070e+02        3.327439e+02        2.851832e+02   \n",
              "std    ...   6.527134e+02        8.466031e+03        4.096943e+03   \n",
              "min    ...   1.000000e+00        0.000000e+00        0.000000e+00   \n",
              "25%    ...   5.000000e+02        2.359950e-01        2.436680e-01   \n",
              "50%    ...   7.000000e+02        3.900890e-01        3.986290e-01   \n",
              "75%    ...   9.200000e+02        5.725580e-01        5.796390e-01   \n",
              "max    ...   2.444250e+05        2.714290e+06        1.000000e+06   \n",
              "\n",
              "       N_IN_Conn_P_DstIP  N_IN_Conn_P_SrcIP  AR_P_Proto_P_Sport  \\\n",
              "count       3.668522e+06       3.668522e+06        3.668522e+06   \n",
              "mean        9.245168e+01       8.253848e+01        4.564945e+02   \n",
              "std         1.817643e+01       2.439739e+01        1.432917e+04   \n",
              "min         1.000000e+00       1.000000e+00        0.000000e+00   \n",
              "25%         1.000000e+02       6.900000e+01        2.314810e-01   \n",
              "50%         1.000000e+02       1.000000e+02        3.785910e-01   \n",
              "75%         1.000000e+02       1.000000e+02        5.725550e-01   \n",
              "max         1.000000e+02       1.000000e+02        3.000000e+06   \n",
              "\n",
              "       AR_P_Proto_P_Dport  Pkts_P_State_P_Protocol_P_DestIP  \\\n",
              "count        3.668522e+06                      3.668522e+06   \n",
              "mean         5.385196e+02                      6.422897e+02   \n",
              "std          1.569824e+04                      4.533432e+02   \n",
              "min          0.000000e+00                      1.000000e+00   \n",
              "25%          2.457730e-01                      3.240000e+02   \n",
              "50%          3.943060e-01                      6.000000e+02   \n",
              "75%          5.769710e-01                      8.280000e+02   \n",
              "max          2.000000e+06                      1.125440e+05   \n",
              "\n",
              "       Pkts_P_State_P_Protocol_P_SrcIP        attack  \n",
              "count                     3.668522e+06  3.668522e+06  \n",
              "mean                      5.859984e+02  9.998700e-01  \n",
              "std                       4.332619e+02  1.140212e-02  \n",
              "min                       1.000000e+00  0.000000e+00  \n",
              "25%                       2.940000e+02  1.000000e+00  \n",
              "50%                       5.000000e+02  1.000000e+00  \n",
              "75%                       8.000000e+02  1.000000e+00  \n",
              "max                       1.179390e+05  1.000000e+00  \n",
              "\n",
              "[8 rows x 37 columns]"
            ],
            "text/html": [
              "\n",
              "  <div id=\"df-c476e225-e5cd-472f-a254-c1a1d2f59cd1\">\n",
              "    <div class=\"colab-df-container\">\n",
              "      <div>\n",
              "<style scoped>\n",
              "    .dataframe tbody tr th:only-of-type {\n",
              "        vertical-align: middle;\n",
              "    }\n",
              "\n",
              "    .dataframe tbody tr th {\n",
              "        vertical-align: top;\n",
              "    }\n",
              "\n",
              "    .dataframe thead th {\n",
              "        text-align: right;\n",
              "    }\n",
              "</style>\n",
              "<table border=\"1\" class=\"dataframe\">\n",
              "  <thead>\n",
              "    <tr style=\"text-align: right;\">\n",
              "      <th></th>\n",
              "      <th>pkSeqID</th>\n",
              "      <th>stime</th>\n",
              "      <th>flgs_number</th>\n",
              "      <th>proto_number</th>\n",
              "      <th>pkts</th>\n",
              "      <th>bytes</th>\n",
              "      <th>state_number</th>\n",
              "      <th>ltime</th>\n",
              "      <th>seq</th>\n",
              "      <th>dur</th>\n",
              "      <th>...</th>\n",
              "      <th>TnP_Per_Dport</th>\n",
              "      <th>AR_P_Proto_P_SrcIP</th>\n",
              "      <th>AR_P_Proto_P_DstIP</th>\n",
              "      <th>N_IN_Conn_P_DstIP</th>\n",
              "      <th>N_IN_Conn_P_SrcIP</th>\n",
              "      <th>AR_P_Proto_P_Sport</th>\n",
              "      <th>AR_P_Proto_P_Dport</th>\n",
              "      <th>Pkts_P_State_P_Protocol_P_DestIP</th>\n",
              "      <th>Pkts_P_State_P_Protocol_P_SrcIP</th>\n",
              "      <th>attack</th>\n",
              "    </tr>\n",
              "  </thead>\n",
              "  <tbody>\n",
              "    <tr>\n",
              "      <th>count</th>\n",
              "      <td>3.668522e+06</td>\n",
              "      <td>3.668522e+06</td>\n",
              "      <td>3.668522e+06</td>\n",
              "      <td>3.668522e+06</td>\n",
              "      <td>3.668522e+06</td>\n",
              "      <td>3.668522e+06</td>\n",
              "      <td>3.668522e+06</td>\n",
              "      <td>3.668522e+06</td>\n",
              "      <td>3.668522e+06</td>\n",
              "      <td>3.668522e+06</td>\n",
              "      <td>...</td>\n",
              "      <td>3.668522e+06</td>\n",
              "      <td>3.668522e+06</td>\n",
              "      <td>3.668522e+06</td>\n",
              "      <td>3.668522e+06</td>\n",
              "      <td>3.668522e+06</td>\n",
              "      <td>3.668522e+06</td>\n",
              "      <td>3.668522e+06</td>\n",
              "      <td>3.668522e+06</td>\n",
              "      <td>3.668522e+06</td>\n",
              "      <td>3.668522e+06</td>\n",
              "    </tr>\n",
              "    <tr>\n",
              "      <th>mean</th>\n",
              "      <td>1.834262e+06</td>\n",
              "      <td>1.528050e+09</td>\n",
              "      <td>1.490206e+00</td>\n",
              "      <td>2.095884e+00</td>\n",
              "      <td>7.725963e+00</td>\n",
              "      <td>8.690501e+02</td>\n",
              "      <td>3.134390e+00</td>\n",
              "      <td>1.528050e+09</td>\n",
              "      <td>1.213204e+05</td>\n",
              "      <td>2.033479e+01</td>\n",
              "      <td>...</td>\n",
              "      <td>7.369070e+02</td>\n",
              "      <td>3.327439e+02</td>\n",
              "      <td>2.851832e+02</td>\n",
              "      <td>9.245168e+01</td>\n",
              "      <td>8.253848e+01</td>\n",
              "      <td>4.564945e+02</td>\n",
              "      <td>5.385196e+02</td>\n",
              "      <td>6.422897e+02</td>\n",
              "      <td>5.859984e+02</td>\n",
              "      <td>9.998700e-01</td>\n",
              "    </tr>\n",
              "    <tr>\n",
              "      <th>std</th>\n",
              "      <td>1.059011e+06</td>\n",
              "      <td>2.581498e+05</td>\n",
              "      <td>8.652444e-01</td>\n",
              "      <td>9.990837e-01</td>\n",
              "      <td>1.155876e+02</td>\n",
              "      <td>1.122667e+05</td>\n",
              "      <td>1.186971e+00</td>\n",
              "      <td>2.581507e+05</td>\n",
              "      <td>7.579428e+04</td>\n",
              "      <td>2.148764e+01</td>\n",
              "      <td>...</td>\n",
              "      <td>6.527134e+02</td>\n",
              "      <td>8.466031e+03</td>\n",
              "      <td>4.096943e+03</td>\n",
              "      <td>1.817643e+01</td>\n",
              "      <td>2.439739e+01</td>\n",
              "      <td>1.432917e+04</td>\n",
              "      <td>1.569824e+04</td>\n",
              "      <td>4.533432e+02</td>\n",
              "      <td>4.332619e+02</td>\n",
              "      <td>1.140212e-02</td>\n",
              "    </tr>\n",
              "    <tr>\n",
              "      <th>min</th>\n",
              "      <td>1.000000e+00</td>\n",
              "      <td>1.526344e+09</td>\n",
              "      <td>1.000000e+00</td>\n",
              "      <td>1.000000e+00</td>\n",
              "      <td>1.000000e+00</td>\n",
              "      <td>6.000000e+01</td>\n",
              "      <td>1.000000e+00</td>\n",
              "      <td>1.526344e+09</td>\n",
              "      <td>1.000000e+00</td>\n",
              "      <td>0.000000e+00</td>\n",
              "      <td>...</td>\n",
              "      <td>1.000000e+00</td>\n",
              "      <td>0.000000e+00</td>\n",
              "      <td>0.000000e+00</td>\n",
              "      <td>1.000000e+00</td>\n",
              "      <td>1.000000e+00</td>\n",
              "      <td>0.000000e+00</td>\n",
              "      <td>0.000000e+00</td>\n",
              "      <td>1.000000e+00</td>\n",
              "      <td>1.000000e+00</td>\n",
              "      <td>0.000000e+00</td>\n",
              "    </tr>\n",
              "    <tr>\n",
              "      <th>25%</th>\n",
              "      <td>9.171312e+05</td>\n",
              "      <td>1.528085e+09</td>\n",
              "      <td>1.000000e+00</td>\n",
              "      <td>1.000000e+00</td>\n",
              "      <td>5.000000e+00</td>\n",
              "      <td>4.200000e+02</td>\n",
              "      <td>3.000000e+00</td>\n",
              "      <td>1.528085e+09</td>\n",
              "      <td>5.487600e+04</td>\n",
              "      <td>1.256256e+01</td>\n",
              "      <td>...</td>\n",
              "      <td>5.000000e+02</td>\n",
              "      <td>2.359950e-01</td>\n",
              "      <td>2.436680e-01</td>\n",
              "      <td>1.000000e+02</td>\n",
              "      <td>6.900000e+01</td>\n",
              "      <td>2.314810e-01</td>\n",
              "      <td>2.457730e-01</td>\n",
              "      <td>3.240000e+02</td>\n",
              "      <td>2.940000e+02</td>\n",
              "      <td>1.000000e+00</td>\n",
              "    </tr>\n",
              "    <tr>\n",
              "      <th>50%</th>\n",
              "      <td>1.834262e+06</td>\n",
              "      <td>1.528096e+09</td>\n",
              "      <td>1.000000e+00</td>\n",
              "      <td>3.000000e+00</td>\n",
              "      <td>7.000000e+00</td>\n",
              "      <td>6.000000e+02</td>\n",
              "      <td>4.000000e+00</td>\n",
              "      <td>1.528096e+09</td>\n",
              "      <td>1.177690e+05</td>\n",
              "      <td>1.550852e+01</td>\n",
              "      <td>...</td>\n",
              "      <td>7.000000e+02</td>\n",
              "      <td>3.900890e-01</td>\n",
              "      <td>3.986290e-01</td>\n",
              "      <td>1.000000e+02</td>\n",
              "      <td>1.000000e+02</td>\n",
              "      <td>3.785910e-01</td>\n",
              "      <td>3.943060e-01</td>\n",
              "      <td>6.000000e+02</td>\n",
              "      <td>5.000000e+02</td>\n",
              "      <td>1.000000e+00</td>\n",
              "    </tr>\n",
              "    <tr>\n",
              "      <th>75%</th>\n",
              "      <td>2.751392e+06</td>\n",
              "      <td>1.528099e+09</td>\n",
              "      <td>2.000000e+00</td>\n",
              "      <td>3.000000e+00</td>\n",
              "      <td>9.000000e+00</td>\n",
              "      <td>7.700000e+02</td>\n",
              "      <td>4.000000e+00</td>\n",
              "      <td>1.528099e+09</td>\n",
              "      <td>1.849300e+05</td>\n",
              "      <td>2.709986e+01</td>\n",
              "      <td>...</td>\n",
              "      <td>9.200000e+02</td>\n",
              "      <td>5.725580e-01</td>\n",
              "      <td>5.796390e-01</td>\n",
              "      <td>1.000000e+02</td>\n",
              "      <td>1.000000e+02</td>\n",
              "      <td>5.725550e-01</td>\n",
              "      <td>5.769710e-01</td>\n",
              "      <td>8.280000e+02</td>\n",
              "      <td>8.000000e+02</td>\n",
              "      <td>1.000000e+00</td>\n",
              "    </tr>\n",
              "    <tr>\n",
              "      <th>max</th>\n",
              "      <td>3.668522e+06</td>\n",
              "      <td>1.529381e+09</td>\n",
              "      <td>9.000000e+00</td>\n",
              "      <td>5.000000e+00</td>\n",
              "      <td>7.005700e+04</td>\n",
              "      <td>7.183334e+07</td>\n",
              "      <td>1.100000e+01</td>\n",
              "      <td>1.529382e+09</td>\n",
              "      <td>2.622120e+05</td>\n",
              "      <td>2.771485e+03</td>\n",
              "      <td>...</td>\n",
              "      <td>2.444250e+05</td>\n",
              "      <td>2.714290e+06</td>\n",
              "      <td>1.000000e+06</td>\n",
              "      <td>1.000000e+02</td>\n",
              "      <td>1.000000e+02</td>\n",
              "      <td>3.000000e+06</td>\n",
              "      <td>2.000000e+06</td>\n",
              "      <td>1.125440e+05</td>\n",
              "      <td>1.179390e+05</td>\n",
              "      <td>1.000000e+00</td>\n",
              "    </tr>\n",
              "  </tbody>\n",
              "</table>\n",
              "<p>8 rows × 37 columns</p>\n",
              "</div>\n",
              "      <button class=\"colab-df-convert\" onclick=\"convertToInteractive('df-c476e225-e5cd-472f-a254-c1a1d2f59cd1')\"\n",
              "              title=\"Convert this dataframe to an interactive table.\"\n",
              "              style=\"display:none;\">\n",
              "        \n",
              "  <svg xmlns=\"http://www.w3.org/2000/svg\" height=\"24px\"viewBox=\"0 0 24 24\"\n",
              "       width=\"24px\">\n",
              "    <path d=\"M0 0h24v24H0V0z\" fill=\"none\"/>\n",
              "    <path d=\"M18.56 5.44l.94 2.06.94-2.06 2.06-.94-2.06-.94-.94-2.06-.94 2.06-2.06.94zm-11 1L8.5 8.5l.94-2.06 2.06-.94-2.06-.94L8.5 2.5l-.94 2.06-2.06.94zm10 10l.94 2.06.94-2.06 2.06-.94-2.06-.94-.94-2.06-.94 2.06-2.06.94z\"/><path d=\"M17.41 7.96l-1.37-1.37c-.4-.4-.92-.59-1.43-.59-.52 0-1.04.2-1.43.59L10.3 9.45l-7.72 7.72c-.78.78-.78 2.05 0 2.83L4 21.41c.39.39.9.59 1.41.59.51 0 1.02-.2 1.41-.59l7.78-7.78 2.81-2.81c.8-.78.8-2.07 0-2.86zM5.41 20L4 18.59l7.72-7.72 1.47 1.35L5.41 20z\"/>\n",
              "  </svg>\n",
              "      </button>\n",
              "      \n",
              "  <style>\n",
              "    .colab-df-container {\n",
              "      display:flex;\n",
              "      flex-wrap:wrap;\n",
              "      gap: 12px;\n",
              "    }\n",
              "\n",
              "    .colab-df-convert {\n",
              "      background-color: #E8F0FE;\n",
              "      border: none;\n",
              "      border-radius: 50%;\n",
              "      cursor: pointer;\n",
              "      display: none;\n",
              "      fill: #1967D2;\n",
              "      height: 32px;\n",
              "      padding: 0 0 0 0;\n",
              "      width: 32px;\n",
              "    }\n",
              "\n",
              "    .colab-df-convert:hover {\n",
              "      background-color: #E2EBFA;\n",
              "      box-shadow: 0px 1px 2px rgba(60, 64, 67, 0.3), 0px 1px 3px 1px rgba(60, 64, 67, 0.15);\n",
              "      fill: #174EA6;\n",
              "    }\n",
              "\n",
              "    [theme=dark] .colab-df-convert {\n",
              "      background-color: #3B4455;\n",
              "      fill: #D2E3FC;\n",
              "    }\n",
              "\n",
              "    [theme=dark] .colab-df-convert:hover {\n",
              "      background-color: #434B5C;\n",
              "      box-shadow: 0px 1px 3px 1px rgba(0, 0, 0, 0.15);\n",
              "      filter: drop-shadow(0px 1px 2px rgba(0, 0, 0, 0.3));\n",
              "      fill: #FFFFFF;\n",
              "    }\n",
              "  </style>\n",
              "\n",
              "      <script>\n",
              "        const buttonEl =\n",
              "          document.querySelector('#df-c476e225-e5cd-472f-a254-c1a1d2f59cd1 button.colab-df-convert');\n",
              "        buttonEl.style.display =\n",
              "          google.colab.kernel.accessAllowed ? 'block' : 'none';\n",
              "\n",
              "        async function convertToInteractive(key) {\n",
              "          const element = document.querySelector('#df-c476e225-e5cd-472f-a254-c1a1d2f59cd1');\n",
              "          const dataTable =\n",
              "            await google.colab.kernel.invokeFunction('convertToInteractive',\n",
              "                                                     [key], {});\n",
              "          if (!dataTable) return;\n",
              "\n",
              "          const docLinkHtml = 'Like what you see? Visit the ' +\n",
              "            '<a target=\"_blank\" href=https://colab.research.google.com/notebooks/data_table.ipynb>data table notebook</a>'\n",
              "            + ' to learn more about interactive tables.';\n",
              "          element.innerHTML = '';\n",
              "          dataTable['output_type'] = 'display_data';\n",
              "          await google.colab.output.renderOutput(dataTable, element);\n",
              "          const docLink = document.createElement('div');\n",
              "          docLink.innerHTML = docLinkHtml;\n",
              "          element.appendChild(docLink);\n",
              "        }\n",
              "      </script>\n",
              "    </div>\n",
              "  </div>\n",
              "  "
            ]
          },
          "metadata": {},
          "execution_count": 6
        }
      ],
      "source": [
        "data.describe()"
      ]
    },
    {
      "cell_type": "code",
      "execution_count": null,
      "metadata": {
        "colab": {
          "base_uri": "https://localhost:8080/",
          "height": 500
        },
        "id": "MwkEFeMXstMa",
        "outputId": "cfc9ceca-116a-4452-b3a4-4b13e3061931"
      },
      "outputs": [
        {
          "output_type": "execute_result",
          "data": {
            "text/plain": [
              "1    3668045\n",
              "0        477\n",
              "Name: attack, dtype: int64"
            ]
          },
          "metadata": {},
          "execution_count": 7
        },
        {
          "output_type": "display_data",
          "data": {
            "text/plain": [
              "<Figure size 640x480 with 1 Axes>"
            ],
            "image/png": "[encoded data removed]"
          },
          "metadata": {}
        }
      ],
      "source": [
        "data[\"attack\"].value_counts().plot(kind='barh')\n",
        "data[\"attack\"].value_counts()"
      ]
    },
    {
      "cell_type": "code",
      "execution_count": null,
      "metadata": {
        "colab": {
          "base_uri": "https://localhost:8080/",
          "height": 552
        },
        "id": "Fj9l74G2stMa",
        "outputId": "df47a962-762d-4297-9d77-8f80021705c8"
      },
      "outputs": [
        {
          "output_type": "execute_result",
          "data": {
            "text/plain": [
              "DDoS              1926624\n",
              "DoS               1650260\n",
              "Reconnaissance      91082\n",
              "Normal                477\n",
              "Theft                  79\n",
              "Name: category, dtype: int64"
            ]
          },
          "metadata": {},
          "execution_count": 8
        },
        {
          "output_type": "display_data",
          "data": {
            "text/plain": [
              "<Figure size 640x480 with 1 Axes>"
            ],
            "image/png": "[encoded data removed]"
          },
          "metadata": {}
        }
      ],
      "source": [
        "data[\"category\"].value_counts().plot(kind='barh')\n",
        "data[\"category\"].value_counts()"
      ]
    },
    {
      "cell_type": "code",
      "execution_count": null,
      "metadata": {
        "colab": {
          "base_uri": "https://localhost:8080/",
          "height": 604
        },
        "id": "K4wXfpH0stMb",
        "outputId": "99cd5987-59ce-46b8-a604-924a8c843040"
      },
      "outputs": [
        {
          "output_type": "execute_result",
          "data": {
            "text/plain": [
              "UDP                  1981230\n",
              "TCP                  1593180\n",
              "Service_Scan           73168\n",
              "OS_Fingerprint         17914\n",
              "HTTP                    2474\n",
              "Normal                   477\n",
              "Keylogging                73\n",
              "Data_Exfiltration          6\n",
              "Name: subcategory, dtype: int64"
            ]
          },
          "metadata": {},
          "execution_count": 9
        },
        {
          "output_type": "display_data",
          "data": {
            "text/plain": [
              "<Figure size 640x480 with 1 Axes>"
            ],
            "image/png": "[encoded data removed]"
          },
          "metadata": {}
        }
      ],
      "source": [
        "data[\"subcategory\"].value_counts().plot(kind='barh')\n",
        "data[\"subcategory\"].value_counts()"
      ]
    },
    {
      "cell_type": "markdown",
      "metadata": {
        "id": "1uGsJpWlOKiI"
      },
      "source": [
        "# Prepare final sample for project"
      ]
    },
    {
      "cell_type": "code",
      "execution_count": null,
      "metadata": {
        "id": "SiPFoFGHOKKb"
      },
      "outputs": [],
      "source": [
        "data_upd = data[data['subcategory'] == 'UDP']\n",
        "data_upd = data_upd.iloc[::10, :]\n",
        "\n",
        "data_tcp = data[data['subcategory'] == 'TCP']\n",
        "data_tcp = data_tcp.iloc[::10, :]\n",
        "\n",
        "data_ss = data[data['subcategory'] == 'Service_Scan']\n",
        "\n",
        "\n",
        "data_osf = data[data['subcategory'] == 'OS_Fingerprint']\n",
        "\n",
        "data_http = data[data['subcategory'] == 'HTTP']\n",
        "\n",
        "data_normal = data[data['subcategory'] == 'Normal']\n",
        "\n",
        "data_Keylogging = data[data['subcategory'] == 'Keylogging']\n",
        "\n",
        "data_Data_Exfiltration = data[data['subcategory'] == 'Data_Exfiltration']\n",
        "\n"
      ]
    },
    {
      "cell_type": "code",
      "execution_count": null,
      "metadata": {
        "id": "uHbMlvTSSNbx"
      },
      "outputs": [],
      "source": [
        "data_final = data_upd.append(data_tcp, ignore_index = True)\n",
        "\n",
        "data_final = data_final.append(data_ss, ignore_index = True)\n",
        "\n",
        "\n",
        "data_final = data_final.append(data_osf, ignore_index = True)\n",
        "\n",
        "data_final = data_final.append(data_http, ignore_index = True)\n",
        "\n",
        "data_final = data_final.append(data_normal, ignore_index = True)\n",
        "\n",
        "\n",
        "data_final = data_final.append(data_Keylogging, ignore_index = True)\n",
        "\n",
        "data_final = data_final.append(data_Data_Exfiltration, ignore_index = True)\n"
      ]
    },
    {
      "cell_type": "code",
      "execution_count": null,
      "metadata": {
        "colab": {
          "base_uri": "https://localhost:8080/"
        },
        "id": "D4HaHFTAPE8T",
        "outputId": "ce0282c1-6c3c-4700-b840-0a117f7c6d81"
      },
      "outputs": [
        {
          "output_type": "stream",
          "name": "stdout",
          "text": [
            "<class 'pandas.core.frame.DataFrame'>\n",
            "RangeIndex: 451553 entries, 0 to 451552\n",
            "Data columns (total 46 columns):\n",
            " #   Column                            Non-Null Count   Dtype  \n",
            "---  ------                            --------------   -----  \n",
            " 0   pkSeqID                           451553 non-null  int64  \n",
            " 1   stime                             451553 non-null  float64\n",
            " 2   flgs                              451553 non-null  object \n",
            " 3   flgs_number                       451553 non-null  int64  \n",
            " 4   proto                             451553 non-null  object \n",
            " 5   proto_number                      451553 non-null  int64  \n",
            " 6   saddr                             451553 non-null  object \n",
            " 7   sport                             451553 non-null  object \n",
            " 8   daddr                             451553 non-null  object \n",
            " 9   dport                             451553 non-null  object \n",
            " 10  pkts                              451553 non-null  int64  \n",
            " 11  bytes                             451553 non-null  int64  \n",
            " 12  state                             451553 non-null  object \n",
            " 13  state_number                      451553 non-null  int64  \n",
            " 14  ltime                             451553 non-null  float64\n",
            " 15  seq                               451553 non-null  int64  \n",
            " 16  dur                               451553 non-null  float64\n",
            " 17  mean                              451553 non-null  float64\n",
            " 18  stddev                            451553 non-null  float64\n",
            " 19  sum                               451553 non-null  float64\n",
            " 20  min                               451553 non-null  float64\n",
            " 21  max                               451553 non-null  float64\n",
            " 22  spkts                             451553 non-null  int64  \n",
            " 23  dpkts                             451553 non-null  int64  \n",
            " 24  sbytes                            451553 non-null  int64  \n",
            " 25  dbytes                            451553 non-null  int64  \n",
            " 26  rate                              451553 non-null  float64\n",
            " 27  srate                             451553 non-null  float64\n",
            " 28  drate                             451553 non-null  float64\n",
            " 29  TnBPSrcIP                         451553 non-null  int64  \n",
            " 30  TnBPDstIP                         451553 non-null  int64  \n",
            " 31  TnP_PSrcIP                        451553 non-null  int64  \n",
            " 32  TnP_PDstIP                        451553 non-null  int64  \n",
            " 33  TnP_PerProto                      451553 non-null  int64  \n",
            " 34  TnP_Per_Dport                     451553 non-null  int64  \n",
            " 35  AR_P_Proto_P_SrcIP                451553 non-null  float64\n",
            " 36  AR_P_Proto_P_DstIP                451553 non-null  float64\n",
            " 37  N_IN_Conn_P_DstIP                 451553 non-null  int64  \n",
            " 38  N_IN_Conn_P_SrcIP                 451553 non-null  int64  \n",
            " 39  AR_P_Proto_P_Sport                451553 non-null  float64\n",
            " 40  AR_P_Proto_P_Dport                451553 non-null  float64\n",
            " 41  Pkts_P_State_P_Protocol_P_DestIP  451553 non-null  int64  \n",
            " 42  Pkts_P_State_P_Protocol_P_SrcIP   451553 non-null  int64  \n",
            " 43  attack                            451553 non-null  int64  \n",
            " 44  category                          451553 non-null  object \n",
            " 45  subcategory                       451553 non-null  object \n",
            "dtypes: float64(15), int64(22), object(9)\n",
            "memory usage: 158.5+ MB\n"
          ]
        }
      ],
      "source": [
        "data_final.info()"
      ]
    },
    {
      "cell_type": "markdown",
      "metadata": {
        "id": "GGUnYO0kstMc"
      },
      "source": [
        "### Extracting best features"
      ]
    },
    {
      "cell_type": "code",
      "execution_count": null,
      "metadata": {
        "id": "kG_sfyP9zJdq"
      },
      "outputs": [],
      "source": [
        "data = data_final"
      ]
    },
    {
      "cell_type": "code",
      "execution_count": null,
      "metadata": {
        "id": "-VL7ZWTMstMc"
      },
      "outputs": [],
      "source": [
        "features_list = []\n",
        "features_attributes_lists = []\n",
        "\n",
        "target_attributes_list = ['attack','category','subcategory']\n",
        "\n",
        "numerics = ['int16', 'int32', 'int64', 'float16', 'float32', 'float64']\n",
        "\n",
        "for i in data.columns:\n",
        "  if i not in target_attributes_list:\n",
        "    features_list.append(i)\n",
        "\n",
        "for i in features_list:\n",
        "    if data[i].dtype in numerics:\n",
        "        features_attributes_lists.append(i)\n",
        "\n",
        "features_data_frame = data[features_attributes_lists]\n",
        "target_features = data[target_attributes_list]"
      ]
    },
    {
      "cell_type": "code",
      "source": [
        "features_attributes_lists"
      ],
      "metadata": {
        "colab": {
          "base_uri": "https://localhost:8080/"
        },
        "id": "x0ATAySr--0b",
        "outputId": "cf4fe808-c328-4a26-8169-688807a9073c"
      },
      "execution_count": null,
      "outputs": [
        {
          "output_type": "execute_result",
          "data": {
            "text/plain": [
              "['pkSeqID',\n",
              " 'stime',\n",
              " 'flgs_number',\n",
              " 'proto_number',\n",
              " 'pkts',\n",
              " 'bytes',\n",
              " 'state_number',\n",
              " 'ltime',\n",
              " 'seq',\n",
              " 'dur',\n",
              " 'mean',\n",
              " 'stddev',\n",
              " 'sum',\n",
              " 'min',\n",
              " 'max',\n",
              " 'spkts',\n",
              " 'dpkts',\n",
              " 'sbytes',\n",
              " 'dbytes',\n",
              " 'rate',\n",
              " 'srate',\n",
              " 'drate',\n",
              " 'TnBPSrcIP',\n",
              " 'TnBPDstIP',\n",
              " 'TnP_PSrcIP',\n",
              " 'TnP_PDstIP',\n",
              " 'TnP_PerProto',\n",
              " 'TnP_Per_Dport',\n",
              " 'AR_P_Proto_P_SrcIP',\n",
              " 'AR_P_Proto_P_DstIP',\n",
              " 'N_IN_Conn_P_DstIP',\n",
              " 'N_IN_Conn_P_SrcIP',\n",
              " 'AR_P_Proto_P_Sport',\n",
              " 'AR_P_Proto_P_Dport',\n",
              " 'Pkts_P_State_P_Protocol_P_DestIP',\n",
              " 'Pkts_P_State_P_Protocol_P_SrcIP']"
            ]
          },
          "metadata": {},
          "execution_count": 15
        }
      ]
    },
    {
      "cell_type": "markdown",
      "metadata": {
        "id": "aBv5xqTpstMe"
      },
      "source": [
        "## Data Preprocessing"
      ]
    },
    {
      "cell_type": "code",
      "source": [
        "target_features.head()"
      ],
      "metadata": {
        "colab": {
          "base_uri": "https://localhost:8080/",
          "height": 206
        },
        "id": "ltOpmSTp_1IU",
        "outputId": "b5adb87c-f065-4152-ac51-6b7cb532ff70"
      },
      "execution_count": null,
      "outputs": [
        {
          "output_type": "execute_result",
          "data": {
            "text/plain": [
              "   attack category subcategory\n",
              "0       1      DoS         UDP\n",
              "1       1      DoS         UDP\n",
              "2       1      DoS         UDP\n",
              "3       1      DoS         UDP\n",
              "4       1      DoS         UDP"
            ],
            "text/html": [
              "\n",
              "  <div id=\"df-cba77550-75d7-4603-9f48-30768e6dcd36\">\n",
              "    <div class=\"colab-df-container\">\n",
              "      <div>\n",
              "<style scoped>\n",
              "    .dataframe tbody tr th:only-of-type {\n",
              "        vertical-align: middle;\n",
              "    }\n",
              "\n",
              "    .dataframe tbody tr th {\n",
              "        vertical-align: top;\n",
              "    }\n",
              "\n",
              "    .dataframe thead th {\n",
              "        text-align: right;\n",
              "    }\n",
              "</style>\n",
              "<table border=\"1\" class=\"dataframe\">\n",
              "  <thead>\n",
              "    <tr style=\"text-align: right;\">\n",
              "      <th></th>\n",
              "      <th>attack</th>\n",
              "      <th>category</th>\n",
              "      <th>subcategory</th>\n",
              "    </tr>\n",
              "  </thead>\n",
              "  <tbody>\n",
              "    <tr>\n",
              "      <th>0</th>\n",
              "      <td>1</td>\n",
              "      <td>DoS</td>\n",
              "      <td>UDP</td>\n",
              "    </tr>\n",
              "    <tr>\n",
              "      <th>1</th>\n",
              "      <td>1</td>\n",
              "      <td>DoS</td>\n",
              "      <td>UDP</td>\n",
              "    </tr>\n",
              "    <tr>\n",
              "      <th>2</th>\n",
              "      <td>1</td>\n",
              "      <td>DoS</td>\n",
              "      <td>UDP</td>\n",
              "    </tr>\n",
              "    <tr>\n",
              "      <th>3</th>\n",
              "      <td>1</td>\n",
              "      <td>DoS</td>\n",
              "      <td>UDP</td>\n",
              "    </tr>\n",
              "    <tr>\n",
              "      <th>4</th>\n",
              "      <td>1</td>\n",
              "      <td>DoS</td>\n",
              "      <td>UDP</td>\n",
              "    </tr>\n",
              "  </tbody>\n",
              "</table>\n",
              "</div>\n",
              "      <button class=\"colab-df-convert\" onclick=\"convertToInteractive('df-cba77550-75d7-4603-9f48-30768e6dcd36')\"\n",
              "              title=\"Convert this dataframe to an interactive table.\"\n",
              "              style=\"display:none;\">\n",
              "        \n",
              "  <svg xmlns=\"http://www.w3.org/2000/svg\" height=\"24px\"viewBox=\"0 0 24 24\"\n",
              "       width=\"24px\">\n",
              "    <path d=\"M0 0h24v24H0V0z\" fill=\"none\"/>\n",
              "    <path d=\"M18.56 5.44l.94 2.06.94-2.06 2.06-.94-2.06-.94-.94-2.06-.94 2.06-2.06.94zm-11 1L8.5 8.5l.94-2.06 2.06-.94-2.06-.94L8.5 2.5l-.94 2.06-2.06.94zm10 10l.94 2.06.94-2.06 2.06-.94-2.06-.94-.94-2.06-.94 2.06-2.06.94z\"/><path d=\"M17.41 7.96l-1.37-1.37c-.4-.4-.92-.59-1.43-.59-.52 0-1.04.2-1.43.59L10.3 9.45l-7.72 7.72c-.78.78-.78 2.05 0 2.83L4 21.41c.39.39.9.59 1.41.59.51 0 1.02-.2 1.41-.59l7.78-7.78 2.81-2.81c.8-.78.8-2.07 0-2.86zM5.41 20L4 18.59l7.72-7.72 1.47 1.35L5.41 20z\"/>\n",
              "  </svg>\n",
              "      </button>\n",
              "      \n",
              "  <style>\n",
              "    .colab-df-container {\n",
              "      display:flex;\n",
              "      flex-wrap:wrap;\n",
              "      gap: 12px;\n",
              "    }\n",
              "\n",
              "    .colab-df-convert {\n",
              "      background-color: #E8F0FE;\n",
              "      border: none;\n",
              "      border-radius: 50%;\n",
              "      cursor: pointer;\n",
              "      display: none;\n",
              "      fill: #1967D2;\n",
              "      height: 32px;\n",
              "      padding: 0 0 0 0;\n",
              "      width: 32px;\n",
              "    }\n",
              "\n",
              "    .colab-df-convert:hover {\n",
              "      background-color: #E2EBFA;\n",
              "      box-shadow: 0px 1px 2px rgba(60, 64, 67, 0.3), 0px 1px 3px 1px rgba(60, 64, 67, 0.15);\n",
              "      fill: #174EA6;\n",
              "    }\n",
              "\n",
              "    [theme=dark] .colab-df-convert {\n",
              "      background-color: #3B4455;\n",
              "      fill: #D2E3FC;\n",
              "    }\n",
              "\n",
              "    [theme=dark] .colab-df-convert:hover {\n",
              "      background-color: #434B5C;\n",
              "      box-shadow: 0px 1px 3px 1px rgba(0, 0, 0, 0.15);\n",
              "      filter: drop-shadow(0px 1px 2px rgba(0, 0, 0, 0.3));\n",
              "      fill: #FFFFFF;\n",
              "    }\n",
              "  </style>\n",
              "\n",
              "      <script>\n",
              "        const buttonEl =\n",
              "          document.querySelector('#df-cba77550-75d7-4603-9f48-30768e6dcd36 button.colab-df-convert');\n",
              "        buttonEl.style.display =\n",
              "          google.colab.kernel.accessAllowed ? 'block' : 'none';\n",
              "\n",
              "        async function convertToInteractive(key) {\n",
              "          const element = document.querySelector('#df-cba77550-75d7-4603-9f48-30768e6dcd36');\n",
              "          const dataTable =\n",
              "            await google.colab.kernel.invokeFunction('convertToInteractive',\n",
              "                                                     [key], {});\n",
              "          if (!dataTable) return;\n",
              "\n",
              "          const docLinkHtml = 'Like what you see? Visit the ' +\n",
              "            '<a target=\"_blank\" href=https://colab.research.google.com/notebooks/data_table.ipynb>data table notebook</a>'\n",
              "            + ' to learn more about interactive tables.';\n",
              "          element.innerHTML = '';\n",
              "          dataTable['output_type'] = 'display_data';\n",
              "          await google.colab.output.renderOutput(dataTable, element);\n",
              "          const docLink = document.createElement('div');\n",
              "          docLink.innerHTML = docLinkHtml;\n",
              "          element.appendChild(docLink);\n",
              "        }\n",
              "      </script>\n",
              "    </div>\n",
              "  </div>\n",
              "  "
            ]
          },
          "metadata": {},
          "execution_count": 16
        }
      ]
    },
    {
      "cell_type": "code",
      "execution_count": null,
      "metadata": {
        "colab": {
          "base_uri": "https://localhost:8080/",
          "height": 206
        },
        "id": "ULrR1PdnstMg",
        "outputId": "8426fa50-390a-4d1d-e334-3603eef818a5"
      },
      "outputs": [
        {
          "output_type": "execute_result",
          "data": {
            "text/plain": [
              "   attack  category  subcategory\n",
              "0       1         1            7\n",
              "1       1         1            7\n",
              "2       1         1            7\n",
              "3       1         1            7\n",
              "4       1         1            7"
            ],
            "text/html": [
              "\n",
              "  <div id=\"df-4a32efe4-04b1-4a92-90d3-d0f62a4d7000\">\n",
              "    <div class=\"colab-df-container\">\n",
              "      <div>\n",
              "<style scoped>\n",
              "    .dataframe tbody tr th:only-of-type {\n",
              "        vertical-align: middle;\n",
              "    }\n",
              "\n",
              "    .dataframe tbody tr th {\n",
              "        vertical-align: top;\n",
              "    }\n",
              "\n",
              "    .dataframe thead th {\n",
              "        text-align: right;\n",
              "    }\n",
              "</style>\n",
              "<table border=\"1\" class=\"dataframe\">\n",
              "  <thead>\n",
              "    <tr style=\"text-align: right;\">\n",
              "      <th></th>\n",
              "      <th>attack</th>\n",
              "      <th>category</th>\n",
              "      <th>subcategory</th>\n",
              "    </tr>\n",
              "  </thead>\n",
              "  <tbody>\n",
              "    <tr>\n",
              "      <th>0</th>\n",
              "      <td>1</td>\n",
              "      <td>1</td>\n",
              "      <td>7</td>\n",
              "    </tr>\n",
              "    <tr>\n",
              "      <th>1</th>\n",
              "      <td>1</td>\n",
              "      <td>1</td>\n",
              "      <td>7</td>\n",
              "    </tr>\n",
              "    <tr>\n",
              "      <th>2</th>\n",
              "      <td>1</td>\n",
              "      <td>1</td>\n",
              "      <td>7</td>\n",
              "    </tr>\n",
              "    <tr>\n",
              "      <th>3</th>\n",
              "      <td>1</td>\n",
              "      <td>1</td>\n",
              "      <td>7</td>\n",
              "    </tr>\n",
              "    <tr>\n",
              "      <th>4</th>\n",
              "      <td>1</td>\n",
              "      <td>1</td>\n",
              "      <td>7</td>\n",
              "    </tr>\n",
              "  </tbody>\n",
              "</table>\n",
              "</div>\n",
              "      <button class=\"colab-df-convert\" onclick=\"convertToInteractive('df-4a32efe4-04b1-4a92-90d3-d0f62a4d7000')\"\n",
              "              title=\"Convert this dataframe to an interactive table.\"\n",
              "              style=\"display:none;\">\n",
              "        \n",
              "  <svg xmlns=\"http://www.w3.org/2000/svg\" height=\"24px\"viewBox=\"0 0 24 24\"\n",
              "       width=\"24px\">\n",
              "    <path d=\"M0 0h24v24H0V0z\" fill=\"none\"/>\n",
              "    <path d=\"M18.56 5.44l.94 2.06.94-2.06 2.06-.94-2.06-.94-.94-2.06-.94 2.06-2.06.94zm-11 1L8.5 8.5l.94-2.06 2.06-.94-2.06-.94L8.5 2.5l-.94 2.06-2.06.94zm10 10l.94 2.06.94-2.06 2.06-.94-2.06-.94-.94-2.06-.94 2.06-2.06.94z\"/><path d=\"M17.41 7.96l-1.37-1.37c-.4-.4-.92-.59-1.43-.59-.52 0-1.04.2-1.43.59L10.3 9.45l-7.72 7.72c-.78.78-.78 2.05 0 2.83L4 21.41c.39.39.9.59 1.41.59.51 0 1.02-.2 1.41-.59l7.78-7.78 2.81-2.81c.8-.78.8-2.07 0-2.86zM5.41 20L4 18.59l7.72-7.72 1.47 1.35L5.41 20z\"/>\n",
              "  </svg>\n",
              "      </button>\n",
              "      \n",
              "  <style>\n",
              "    .colab-df-container {\n",
              "      display:flex;\n",
              "      flex-wrap:wrap;\n",
              "      gap: 12px;\n",
              "    }\n",
              "\n",
              "    .colab-df-convert {\n",
              "      background-color: #E8F0FE;\n",
              "      border: none;\n",
              "      border-radius: 50%;\n",
              "      cursor: pointer;\n",
              "      display: none;\n",
              "      fill: #1967D2;\n",
              "      height: 32px;\n",
              "      padding: 0 0 0 0;\n",
              "      width: 32px;\n",
              "    }\n",
              "\n",
              "    .colab-df-convert:hover {\n",
              "      background-color: #E2EBFA;\n",
              "      box-shadow: 0px 1px 2px rgba(60, 64, 67, 0.3), 0px 1px 3px 1px rgba(60, 64, 67, 0.15);\n",
              "      fill: #174EA6;\n",
              "    }\n",
              "\n",
              "    [theme=dark] .colab-df-convert {\n",
              "      background-color: #3B4455;\n",
              "      fill: #D2E3FC;\n",
              "    }\n",
              "\n",
              "    [theme=dark] .colab-df-convert:hover {\n",
              "      background-color: #434B5C;\n",
              "      box-shadow: 0px 1px 3px 1px rgba(0, 0, 0, 0.15);\n",
              "      filter: drop-shadow(0px 1px 2px rgba(0, 0, 0, 0.3));\n",
              "      fill: #FFFFFF;\n",
              "    }\n",
              "  </style>\n",
              "\n",
              "      <script>\n",
              "        const buttonEl =\n",
              "          document.querySelector('#df-4a32efe4-04b1-4a92-90d3-d0f62a4d7000 button.colab-df-convert');\n",
              "        buttonEl.style.display =\n",
              "          google.colab.kernel.accessAllowed ? 'block' : 'none';\n",
              "\n",
              "        async function convertToInteractive(key) {\n",
              "          const element = document.querySelector('#df-4a32efe4-04b1-4a92-90d3-d0f62a4d7000');\n",
              "          const dataTable =\n",
              "            await google.colab.kernel.invokeFunction('convertToInteractive',\n",
              "                                                     [key], {});\n",
              "          if (!dataTable) return;\n",
              "\n",
              "          const docLinkHtml = 'Like what you see? Visit the ' +\n",
              "            '<a target=\"_blank\" href=https://colab.research.google.com/notebooks/data_table.ipynb>data table notebook</a>'\n",
              "            + ' to learn more about interactive tables.';\n",
              "          element.innerHTML = '';\n",
              "          dataTable['output_type'] = 'display_data';\n",
              "          await google.colab.output.renderOutput(dataTable, element);\n",
              "          const docLink = document.createElement('div');\n",
              "          docLink.innerHTML = docLinkHtml;\n",
              "          element.appendChild(docLink);\n",
              "        }\n",
              "      </script>\n",
              "    </div>\n",
              "  </div>\n",
              "  "
            ]
          },
          "metadata": {},
          "execution_count": 17
        }
      ],
      "source": [
        "# Label Encoding the target columns\n",
        "le = LabelEncoder()\n",
        "target_features['category'] = le.fit_transform(target_features['category'])\n",
        "target_features['subcategory'] = le.fit_transform(target_features['subcategory'])\n",
        "\n",
        "target_features.head()"
      ]
    },
    {
      "cell_type": "code",
      "execution_count": null,
      "metadata": {
        "id": "dww1xU56stMh"
      },
      "outputs": [],
      "source": [
        "# Train-test Split\n",
        "X_train, X_test, y_train, y_test = train_test_split(features_data_frame,target_features, test_size=0.20, random_state=1, stratify=target_features)\n"
      ]
    },
    {
      "cell_type": "code",
      "execution_count": null,
      "metadata": {
        "id": "wI8ABnbKstMh"
      },
      "outputs": [],
      "source": [
        "# Scaling the data\n",
        "sc = StandardScaler()\n",
        "X_train = sc.fit_transform(X_train)\n",
        "X_test = sc.transform(X_test)"
      ]
    },
    {
      "cell_type": "code",
      "source": [
        "X_train"
      ],
      "metadata": {
        "colab": {
          "base_uri": "https://localhost:8080/"
        },
        "id": "ooLsEQmXBGE_",
        "outputId": "9dfc8657-1969-4663-9d55-5f22039d2f89"
      },
      "execution_count": null,
      "outputs": [
        {
          "output_type": "execute_result",
          "data": {
            "text/plain": [
              "array([[-1.50815854,  0.48395059,  0.46423449, ..., -0.09877602,\n",
              "        -0.09874781, -0.01464567],\n",
              "       [ 0.20916276,  0.50556773,  0.46423449, ..., -0.09877171,\n",
              "        -0.09874781, -0.01464567],\n",
              "       [-0.08005986,  0.5055409 ,  0.46423449, ..., -0.09876804,\n",
              "         0.16837326,  0.28147734],\n",
              "       ...,\n",
              "       [ 1.23803543, -2.11877626, -0.49095119, ...,  0.79499711,\n",
              "        -0.5034767 , -0.66372338],\n",
              "       [ 1.27571247, -2.11325091, -0.49095119, ...,  0.14975765,\n",
              "        -0.50617489, -0.46630804],\n",
              "       [ 1.23795522, -2.11882349, -0.49095119, ...,  0.79499711,\n",
              "        -0.5034767 , -0.66372338]])"
            ]
          },
          "metadata": {},
          "execution_count": 20
        }
      ]
    },
    {
      "cell_type": "markdown",
      "metadata": {
        "id": "qnCu4eh9stMi"
      },
      "source": [
        "# Defining the ML Model Classes"
      ]
    },
    {
      "cell_type": "code",
      "execution_count": null,
      "metadata": {
        "id": "OYboWlIpstMk"
      },
      "outputs": [],
      "source": [
        "class GradientBoost_attack:\n",
        "    def __init__(self):\n",
        "        self.xgb_attack = XGBClassifier()\n",
        "\n",
        "\n",
        "    def fit(self,X_train,y_train):\n",
        "        self.xgb_attack.fit(X_train,y_train['attack'])\n",
        "\n",
        "\n",
        "    def predict(self,X_test):\n",
        "        predict_attack = self.xgb_attack.predict(X_test)\n",
        "\n",
        "        return pd.DataFrame({'attack':predict_attack})\n",
        "\n",
        "    def feature_engineering(self):\n",
        "        feature_attack = self.xgb_attack.feature_importances_\n",
        "\n",
        "        return feature_attack\n",
        "\n",
        "    def score(self, x_test, y_test):\n",
        "\n",
        "      score_val = self.xgb_attack.score(x_test, y_test)\n",
        "\n",
        "      return score_val"
      ]
    },
    {
      "cell_type": "code",
      "source": [
        "class GradientBoost_category:\n",
        "    def __init__(self):\n",
        "        self.xgb_category = XGBClassifier()\n",
        "\n",
        "    def fit(self,X_train,y_train):\n",
        "\n",
        "        features_category = np.concatenate((X_train,np.array(y_train['attack']).reshape(-1,1)),axis=1)\n",
        "        self.xgb_category.fit(features_category,y_train['category'])\n",
        "\n",
        "    def predict(self,X_test, xgb_attack, x_attack_input):\n",
        "        predict_attack = xgb_attack.predict(x_attack_input)\n",
        "\n",
        "        test_category = np.concatenate((X_test,predict_attack.to_numpy().reshape(-1,1)),axis=1)\n",
        "        predict_category = self.xgb_category.predict(test_category)\n",
        "\n",
        "        return pd.DataFrame({'category':predict_category})\n",
        "\n",
        "    def feature_engineering(self):\n",
        "\n",
        "        feature_category = self.xgb_category.feature_importances_\n",
        "\n",
        "        return feature_category\n",
        "\n",
        "    def score(self, x_test, y_test):\n",
        "\n",
        "      score_val = self.xgb_category.score(x_test, y_test)\n",
        "\n",
        "      return score_val"
      ],
      "metadata": {
        "id": "yL-QdQvHd_eF"
      },
      "execution_count": null,
      "outputs": []
    },
    {
      "cell_type": "code",
      "source": [
        "class GradientBoost_subcategory:\n",
        "    def __init__(self):\n",
        "        self.xgb_subcategory = XGBClassifier()\n",
        "\n",
        "    def fit(self,X_train,y_train):\n",
        "\n",
        "        features_category = np.concatenate((X_train,np.array(y_train['attack']).reshape(-1,1)),axis=1)\n",
        "        features_subcategory = np.concatenate((features_category,np.array(y_train['category']).reshape(-1,1)),axis=1)\n",
        "        self.xgb_subcategory.fit(features_subcategory,y_train['subcategory'])\n",
        "\n",
        "    def predict(self,X_test, xgb_attack, xgb_attack_test, xgb_category, xgb_category_test):\n",
        "        predict_attack = xgb_attack.predict(xgb_attack_test)\n",
        "\n",
        "        predict_category = xgb_category.predict(xgb_category_test, xgb_attack, xgb_attack_test)\n",
        "\n",
        "        features_category = np.concatenate((X_test,predict_attack.to_numpy().reshape(-1,1)),axis=1)\n",
        "        features_subcategory = np.concatenate((features_category,predict_category.to_numpy().reshape(-1,1)),axis=1)\n",
        "        predict_subcategory = self.xgb_subcategory.predict(features_subcategory)\n",
        "\n",
        "        return pd.DataFrame({'subcategory':predict_subcategory})\n",
        "\n",
        "    def feature_engineering(self):\n",
        "        feature_subcategory = self.xgb_subcategory.feature_importances_\n",
        "\n",
        "        return feature_subcategory\n",
        "\n",
        "    def score(self, x_test, y_test):\n",
        "\n",
        "      score_val = self.xgb_subcategory.score(x_test, y_test)\n",
        "\n",
        "      return score_val"
      ],
      "metadata": {
        "id": "tApblre3eATU"
      },
      "execution_count": null,
      "outputs": []
    },
    {
      "cell_type": "markdown",
      "metadata": {
        "id": "rJ2uGBVO5cyk"
      },
      "source": [
        "# Feature Engineering"
      ]
    },
    {
      "cell_type": "markdown",
      "source": [
        "## Attack"
      ],
      "metadata": {
        "id": "wVcMN0fzgRQ9"
      }
    },
    {
      "cell_type": "code",
      "execution_count": null,
      "metadata": {
        "id": "clNDgWAC5b6o"
      },
      "outputs": [],
      "source": [
        "xgb_attack = GradientBoost_attack()\n",
        "xgb_attack.fit(X_train,y_train)\n"
      ]
    },
    {
      "cell_type": "code",
      "source": [
        "feature_attack_val = xgb_attack.feature_engineering()\n",
        "print(feature_attack_val)\n",
        "# plot\n",
        "plt.bar(range(len(feature_attack_val)), feature_attack_val)\n",
        "plt.show()"
      ],
      "metadata": {
        "colab": {
          "base_uri": "https://localhost:8080/",
          "height": 569
        },
        "id": "TKjORtLIY9gE",
        "outputId": "0241f9aa-7c1a-44e8-e5e9-6f6503e2347b"
      },
      "execution_count": null,
      "outputs": [
        {
          "output_type": "stream",
          "name": "stdout",
          "text": [
            "[9.1526829e-02 4.9351566e-03 0.0000000e+00 0.0000000e+00 0.0000000e+00\n",
            " 0.0000000e+00 5.1925620e-03 3.6358954e-03 2.7719638e-03 1.8260182e-03\n",
            " 0.0000000e+00 9.6770271e-04 3.7251941e-03 1.1442248e-02 4.0422645e-04\n",
            " 0.0000000e+00 0.0000000e+00 0.0000000e+00 0.0000000e+00 1.3562348e-02\n",
            " 0.0000000e+00 0.0000000e+00 4.0966645e-03 2.3348561e-02 4.8138457e-03\n",
            " 6.3555478e-03 7.1011537e-01 1.3146870e-02 0.0000000e+00 7.4023958e-03\n",
            " 4.9003515e-02 6.4051114e-03 1.0793839e-02 1.0527212e-02 9.2116538e-03\n",
            " 4.7892858e-03]\n"
          ]
        },
        {
          "output_type": "display_data",
          "data": {
            "text/plain": [
              "<Figure size 640x480 with 1 Axes>"
            ],
            "image/png": "[encoded data removed]"
          },
          "metadata": {}
        }
      ]
    },
    {
      "cell_type": "code",
      "source": [
        "final_main_features_attack = []\n",
        "\n",
        "complete_features = list(features_data_frame.columns)\n",
        "\n",
        "for i in range(len(feature_attack_val)):\n",
        "    if feature_attack_val[i]>0:\n",
        "      final_main_features_attack.append(complete_features[i])\n",
        "\n"
      ],
      "metadata": {
        "id": "M3bE0ot3ZZfv"
      },
      "execution_count": null,
      "outputs": []
    },
    {
      "cell_type": "code",
      "source": [
        "final_main_features_attack, len(final_main_features_attack)"
      ],
      "metadata": {
        "colab": {
          "base_uri": "https://localhost:8080/"
        },
        "id": "oGwbvx5oDeLc",
        "outputId": "64427e47-c602-4e04-af98-36c6f4d04634"
      },
      "execution_count": null,
      "outputs": [
        {
          "output_type": "execute_result",
          "data": {
            "text/plain": [
              "(['pkSeqID',\n",
              "  'stime',\n",
              "  'state_number',\n",
              "  'ltime',\n",
              "  'seq',\n",
              "  'dur',\n",
              "  'stddev',\n",
              "  'sum',\n",
              "  'min',\n",
              "  'max',\n",
              "  'rate',\n",
              "  'TnBPSrcIP',\n",
              "  'TnBPDstIP',\n",
              "  'TnP_PSrcIP',\n",
              "  'TnP_PDstIP',\n",
              "  'TnP_PerProto',\n",
              "  'TnP_Per_Dport',\n",
              "  'AR_P_Proto_P_DstIP',\n",
              "  'N_IN_Conn_P_DstIP',\n",
              "  'N_IN_Conn_P_SrcIP',\n",
              "  'AR_P_Proto_P_Sport',\n",
              "  'AR_P_Proto_P_Dport',\n",
              "  'Pkts_P_State_P_Protocol_P_DestIP',\n",
              "  'Pkts_P_State_P_Protocol_P_SrcIP'],\n",
              " 24)"
            ]
          },
          "metadata": {},
          "execution_count": 27
        }
      ]
    },
    {
      "cell_type": "markdown",
      "source": [
        "## Category"
      ],
      "metadata": {
        "id": "QENYCTVagVd4"
      }
    },
    {
      "cell_type": "code",
      "source": [
        "xgb_category = GradientBoost_category()\n",
        "xgb_category.fit(X_train,y_train)\n"
      ],
      "metadata": {
        "id": "krPZ7jmpgXrX"
      },
      "execution_count": null,
      "outputs": []
    },
    {
      "cell_type": "code",
      "source": [
        "feature_attack_val = xgb_category.feature_engineering()\n",
        "print(feature_attack_val)\n",
        "# plot\n",
        "plt.bar(range(len(feature_attack_val)), feature_attack_val)\n",
        "plt.show()"
      ],
      "metadata": {
        "id": "6-1rV_PegiV1",
        "colab": {
          "base_uri": "https://localhost:8080/",
          "height": 569
        },
        "outputId": "4be5e350-ee91-4d11-d8d8-d1c9ce6834ac"
      },
      "execution_count": null,
      "outputs": [
        {
          "output_type": "stream",
          "name": "stdout",
          "text": [
            "[3.4538934e-01 6.4584970e-01 0.0000000e+00 0.0000000e+00 0.0000000e+00\n",
            " 0.0000000e+00 0.0000000e+00 1.4347036e-05 5.5822961e-06 0.0000000e+00\n",
            " 0.0000000e+00 3.6128122e-06 0.0000000e+00 0.0000000e+00 0.0000000e+00\n",
            " 0.0000000e+00 0.0000000e+00 0.0000000e+00 0.0000000e+00 0.0000000e+00\n",
            " 0.0000000e+00 0.0000000e+00 0.0000000e+00 0.0000000e+00 0.0000000e+00\n",
            " 6.5448903e-06 1.0846592e-05 1.2646332e-05 0.0000000e+00 0.0000000e+00\n",
            " 9.1447509e-06 0.0000000e+00 0.0000000e+00 0.0000000e+00 0.0000000e+00\n",
            " 0.0000000e+00 8.6982902e-03]\n"
          ]
        },
        {
          "output_type": "display_data",
          "data": {
            "text/plain": [
              "<Figure size 640x480 with 1 Axes>"
            ],
            "image/png": "[encoded data removed]"
          },
          "metadata": {}
        }
      ]
    },
    {
      "cell_type": "code",
      "source": [
        "final_main_features_category = []\n",
        "\n",
        "complete_features = list(features_data_frame.columns)\n",
        "\n",
        "for i in range(len(feature_attack_val)):\n",
        "    if feature_attack_val[i]>0 and i<len(complete_features):\n",
        "\n",
        "      final_main_features_category.append(complete_features[i])\n",
        "\n"
      ],
      "metadata": {
        "id": "nrNSg5bSgk6R"
      },
      "execution_count": null,
      "outputs": []
    },
    {
      "cell_type": "markdown",
      "source": [
        "## Sub-Category"
      ],
      "metadata": {
        "id": "g8biRcpagy4J"
      }
    },
    {
      "cell_type": "code",
      "source": [
        "xgb_subcategory = GradientBoost_subcategory()\n",
        "xgb_subcategory.fit(X_train,y_train)"
      ],
      "metadata": {
        "id": "nlEyNms4g2GR"
      },
      "execution_count": null,
      "outputs": []
    },
    {
      "cell_type": "code",
      "source": [
        "feature_attack_val = xgb_subcategory.feature_engineering()\n",
        "print(feature_attack_val)\n",
        "# plot\n",
        "plt.bar(range(len(feature_attack_val)), feature_attack_val)\n",
        "plt.show()"
      ],
      "metadata": {
        "id": "SNghX3dSg9rf",
        "colab": {
          "base_uri": "https://localhost:8080/",
          "height": 569
        },
        "outputId": "c08293ec-2741-431e-8302-a669778eff4d"
      },
      "execution_count": null,
      "outputs": [
        {
          "output_type": "stream",
          "name": "stdout",
          "text": [
            "[2.9192246e-02 2.6329765e-02 2.9548493e-01 9.9746063e-02 1.7292788e-02\n",
            " 2.2858316e-02 5.9111651e-02 1.2350090e-04 1.8078383e-02 1.4704464e-03\n",
            " 2.4539535e-05 1.4651623e-06 3.7100783e-01 0.0000000e+00 1.5651697e-06\n",
            " 6.8835737e-03 3.5276557e-06 2.0434871e-05 4.0760827e-03 2.8834075e-02\n",
            " 3.8363794e-07 2.7462514e-07 0.0000000e+00 9.3926228e-06 0.0000000e+00\n",
            " 0.0000000e+00 1.1735164e-05 3.3321696e-05 0.0000000e+00 0.0000000e+00\n",
            " 3.7308237e-06 0.0000000e+00 7.8928576e-07 0.0000000e+00 4.1909957e-06\n",
            " 9.3501120e-07 2.8479674e-03 1.6546167e-02]\n"
          ]
        },
        {
          "output_type": "display_data",
          "data": {
            "text/plain": [
              "<Figure size 640x480 with 1 Axes>"
            ],
            "image/png": "[encoded data removed]"
          },
          "metadata": {}
        }
      ]
    },
    {
      "cell_type": "code",
      "source": [
        "final_main_features_subcategory = []\n",
        "\n",
        "complete_features = list(features_data_frame.columns)\n",
        "\n",
        "for i in range(len(feature_attack_val)):\n",
        "    if feature_attack_val[i]>0 and i< len(complete_features):\n",
        "      final_main_features_subcategory.append(complete_features[i])\n",
        "\n"
      ],
      "metadata": {
        "id": "nvCrmE5Zg_sq"
      },
      "execution_count": null,
      "outputs": []
    },
    {
      "cell_type": "code",
      "source": [
        "final_main_features_subcategory"
      ],
      "metadata": {
        "colab": {
          "base_uri": "https://localhost:8080/"
        },
        "id": "I0hdwxL9DjKK",
        "outputId": "5a059b45-53e8-47f1-86b9-db9bc800bd6b"
      },
      "execution_count": null,
      "outputs": [
        {
          "output_type": "execute_result",
          "data": {
            "text/plain": [
              "['pkSeqID',\n",
              " 'stime',\n",
              " 'flgs_number',\n",
              " 'proto_number',\n",
              " 'pkts',\n",
              " 'bytes',\n",
              " 'state_number',\n",
              " 'ltime',\n",
              " 'seq',\n",
              " 'dur',\n",
              " 'mean',\n",
              " 'stddev',\n",
              " 'sum',\n",
              " 'max',\n",
              " 'spkts',\n",
              " 'dpkts',\n",
              " 'sbytes',\n",
              " 'dbytes',\n",
              " 'rate',\n",
              " 'srate',\n",
              " 'drate',\n",
              " 'TnBPDstIP',\n",
              " 'TnP_PerProto',\n",
              " 'TnP_Per_Dport',\n",
              " 'N_IN_Conn_P_DstIP',\n",
              " 'AR_P_Proto_P_Sport',\n",
              " 'Pkts_P_State_P_Protocol_P_DestIP',\n",
              " 'Pkts_P_State_P_Protocol_P_SrcIP']"
            ]
          },
          "metadata": {},
          "execution_count": 34
        }
      ]
    },
    {
      "cell_type": "markdown",
      "source": [
        "# Attack"
      ],
      "metadata": {
        "id": "AHMHK8JkchYo"
      }
    },
    {
      "cell_type": "code",
      "source": [
        "features_data_frame__attack = data[final_main_features_attack]"
      ],
      "metadata": {
        "id": "0lGuoMTzcgXa"
      },
      "execution_count": null,
      "outputs": []
    },
    {
      "cell_type": "code",
      "source": [
        "X_train_attack, X_test_attack, y_train_attack, y_test_attack = train_test_split(features_data_frame__attack,target_features, test_size=0.20, random_state=1, stratify=target_features)\n",
        "\n",
        "# Scaling the data\n",
        "sc = StandardScaler()\n",
        "X_train_attack = sc.fit_transform(X_train_attack)\n",
        "X_test_attack = sc.transform(X_test_attack)\n"
      ],
      "metadata": {
        "id": "eRsbUSe7cvwL"
      },
      "execution_count": null,
      "outputs": []
    },
    {
      "cell_type": "code",
      "source": [
        "len(X_test_attack[0])"
      ],
      "metadata": {
        "colab": {
          "base_uri": "https://localhost:8080/"
        },
        "id": "IQpKLH5XOvcb",
        "outputId": "3b80cff1-716a-4487-c0ce-7dc60da37027"
      },
      "execution_count": null,
      "outputs": [
        {
          "output_type": "execute_result",
          "data": {
            "text/plain": [
              "24"
            ]
          },
          "metadata": {},
          "execution_count": 37
        }
      ]
    },
    {
      "cell_type": "markdown",
      "source": [
        "## Training ML Models"
      ],
      "metadata": {
        "id": "uLLkq_I_auzY"
      }
    },
    {
      "cell_type": "code",
      "source": [
        "xgb_attack = GradientBoost_attack()\n",
        "xgb_attack.fit(X_train_attack,y_train_attack)"
      ],
      "metadata": {
        "id": "72KPRpr_ayWt"
      },
      "execution_count": null,
      "outputs": []
    },
    {
      "cell_type": "markdown",
      "metadata": {
        "id": "l4t94ymMstMl"
      },
      "source": [
        "## Validation of ML Models on validation Dataset"
      ]
    },
    {
      "cell_type": "code",
      "execution_count": null,
      "metadata": {
        "id": "1v5R2Ay1stMx"
      },
      "outputs": [],
      "source": [
        "predictions_xgb_attack = xgb_attack.predict(X_test_attack)"
      ]
    },
    {
      "cell_type": "code",
      "execution_count": null,
      "metadata": {
        "colab": {
          "base_uri": "https://localhost:8080/"
        },
        "id": "MadxsrqzstMy",
        "outputId": "4269261c-5487-4c5c-cb9e-b0c4a97376ad"
      },
      "outputs": [
        {
          "output_type": "stream",
          "name": "stdout",
          "text": [
            "[[   95     0]\n",
            " [    1 90215]]\n",
            "              precision    recall  f1-score   support\n",
            "\n",
            "           0       0.99      1.00      0.99        95\n",
            "           1       1.00      1.00      1.00     90216\n",
            "\n",
            "    accuracy                           1.00     90311\n",
            "   macro avg       0.99      1.00      1.00     90311\n",
            "weighted avg       1.00      1.00      1.00     90311\n",
            "\n"
          ]
        }
      ],
      "source": [
        "print(confusion_matrix(y_test_attack['attack'],predictions_xgb_attack['attack']))\n",
        "print(classification_report(y_test_attack['attack'],predictions_xgb_attack['attack']))"
      ]
    },
    {
      "cell_type": "code",
      "execution_count": null,
      "metadata": {
        "colab": {
          "base_uri": "https://localhost:8080/"
        },
        "id": "ij-g7iQcstMy",
        "outputId": "d191fb5c-b6e2-4389-d8be-521d389a7431"
      },
      "outputs": [
        {
          "output_type": "execute_result",
          "data": {
            "text/plain": [
              "0.9999889271517313"
            ]
          },
          "metadata": {},
          "execution_count": 41
        }
      ],
      "source": [
        "attack_score = xgb_attack.score(X_test_attack,y_test_attack['attack'])\n",
        "attack_score"
      ]
    },
    {
      "cell_type": "markdown",
      "source": [
        "# Category\n"
      ],
      "metadata": {
        "id": "w7zPZ_lphVMd"
      }
    },
    {
      "cell_type": "code",
      "source": [
        "features_data_frame_categoty = data[final_main_features_category]"
      ],
      "metadata": {
        "id": "sp32iJODhYFk"
      },
      "execution_count": null,
      "outputs": []
    },
    {
      "cell_type": "code",
      "source": [
        "X_train_category, X_test_category, y_train_category, y_test_category = train_test_split(features_data_frame_categoty,target_features, test_size=0.20, random_state=1, stratify=target_features)\n",
        "\n",
        "# Scaling the data\n",
        "sc = StandardScaler()\n",
        "X_train_category = sc.fit_transform(X_train_category)\n",
        "X_test_category = sc.transform(X_test_category)\n"
      ],
      "metadata": {
        "id": "Y14jc_0ghchY"
      },
      "execution_count": null,
      "outputs": []
    },
    {
      "cell_type": "code",
      "source": [
        "len(X_test_category[0])"
      ],
      "metadata": {
        "colab": {
          "base_uri": "https://localhost:8080/"
        },
        "id": "H9DRFCqBJrJC",
        "outputId": "0a7ad300-8760-4cda-b4e0-d19eb07834b7"
      },
      "execution_count": null,
      "outputs": [
        {
          "output_type": "execute_result",
          "data": {
            "text/plain": [
              "9"
            ]
          },
          "metadata": {},
          "execution_count": 45
        }
      ]
    },
    {
      "cell_type": "markdown",
      "source": [
        "## Training ML Models"
      ],
      "metadata": {
        "id": "E4r1sGfthlAD"
      }
    },
    {
      "cell_type": "code",
      "source": [
        "xgb_category = GradientBoost_category()\n",
        "xgb_category.fit(X_train_category,y_train_category)"
      ],
      "metadata": {
        "id": "Uxu9Vbg4hiav"
      },
      "execution_count": null,
      "outputs": []
    },
    {
      "cell_type": "markdown",
      "source": [
        "## Validation of ML Models on validation Dataset"
      ],
      "metadata": {
        "id": "QWSkZjIqhsDU"
      }
    },
    {
      "cell_type": "code",
      "source": [
        "predictions_xgb_category = xgb_category.predict(X_test_category , xgb_attack, X_test_attack)"
      ],
      "metadata": {
        "id": "KaYjF-D6hxvp"
      },
      "execution_count": null,
      "outputs": []
    },
    {
      "cell_type": "code",
      "source": [
        "print(confusion_matrix(y_test_category['category'],predictions_xgb_category['category']))\n",
        "print(classification_report(y_test_category['category'],predictions_xgb_category['category']))"
      ],
      "metadata": {
        "id": "eTDpNxHFh1gS",
        "colab": {
          "base_uri": "https://localhost:8080/"
        },
        "outputId": "cbb2fa86-1125-4039-d292-6c7b888a9f66"
      },
      "execution_count": null,
      "outputs": [
        {
          "output_type": "stream",
          "name": "stdout",
          "text": [
            "[[38711     0     0     0     0]\n",
            " [    0 33273     0     0     0]\n",
            " [    0     0    95     0     0]\n",
            " [    0     0     0 18217     0]\n",
            " [    0     0     0     0    15]]\n",
            "              precision    recall  f1-score   support\n",
            "\n",
            "           0       1.00      1.00      1.00     38711\n",
            "           1       1.00      1.00      1.00     33273\n",
            "           2       1.00      1.00      1.00        95\n",
            "           3       1.00      1.00      1.00     18217\n",
            "           4       1.00      1.00      1.00        15\n",
            "\n",
            "    accuracy                           1.00     90311\n",
            "   macro avg       1.00      1.00      1.00     90311\n",
            "weighted avg       1.00      1.00      1.00     90311\n",
            "\n"
          ]
        }
      ]
    },
    {
      "cell_type": "markdown",
      "source": [
        "# Sub-Category"
      ],
      "metadata": {
        "id": "xj6e_wW-iLKq"
      }
    },
    {
      "cell_type": "code",
      "source": [
        "features_data_frame_subcategory = data[final_main_features_subcategory]"
      ],
      "metadata": {
        "id": "fVf2Gj-xiO2d"
      },
      "execution_count": null,
      "outputs": []
    },
    {
      "cell_type": "code",
      "source": [
        "X_train_subcategory, X_test_subcategory, y_train_subcategory, y_test_subcategory = train_test_split(features_data_frame_subcategory,target_features, test_size=0.20, random_state=1, stratify=target_features)\n",
        "\n",
        "# Scaling the data\n",
        "sc = StandardScaler()\n",
        "X_train_subcategory = sc.fit_transform(X_train_subcategory)\n",
        "X_test_subcategory = sc.transform(X_test_subcategory)\n"
      ],
      "metadata": {
        "id": "jJLXQfvTiWXS"
      },
      "execution_count": null,
      "outputs": []
    },
    {
      "cell_type": "markdown",
      "source": [
        "## Training ML Models"
      ],
      "metadata": {
        "id": "kIV4ynxoiby4"
      }
    },
    {
      "cell_type": "code",
      "source": [
        "xgb_subcategory = GradientBoost_subcategory()\n",
        "xgb_subcategory.fit(X_train_subcategory, y_train_subcategory)"
      ],
      "metadata": {
        "id": "aROpF7FHifL-"
      },
      "execution_count": null,
      "outputs": []
    },
    {
      "cell_type": "markdown",
      "source": [
        "## Validation of ML Models on validation Dataset"
      ],
      "metadata": {
        "id": "yit6_npnigOB"
      }
    },
    {
      "cell_type": "code",
      "source": [
        "predictions_xgb_subcategory = xgb_subcategory.predict(X_test_subcategory, xgb_attack, X_test_attack, xgb_category, X_test_category)"
      ],
      "metadata": {
        "id": "GdyDZmk6imsk"
      },
      "execution_count": null,
      "outputs": []
    },
    {
      "cell_type": "code",
      "source": [
        "print(confusion_matrix(y_test_subcategory['subcategory'],predictions_xgb_subcategory['subcategory']))\n",
        "print(classification_report(y_test_subcategory['subcategory'],predictions_xgb_subcategory['subcategory']))"
      ],
      "metadata": {
        "id": "0KsfZNbWinug",
        "colab": {
          "base_uri": "https://localhost:8080/"
        },
        "outputId": "22e00477-1f96-4ab9-a082-8e1199345c26"
      },
      "execution_count": null,
      "outputs": [
        {
          "output_type": "stream",
          "name": "stdout",
          "text": [
            "[[    1     0     0     0     0     0     0     0]\n",
            " [    0   495     0     0     0     0     0     0]\n",
            " [    0     0    14     0     0     0     0     0]\n",
            " [    0     0     0    95     0     0     0     0]\n",
            " [    0     0     0     0  3583     0     0     0]\n",
            " [    0     0     0     0     0 14634     0     0]\n",
            " [    0     0     0     0     0     0 31864     0]\n",
            " [    0     0     0     1     0     0     1 39623]]\n",
            "              precision    recall  f1-score   support\n",
            "\n",
            "           0       1.00      1.00      1.00         1\n",
            "           1       1.00      1.00      1.00       495\n",
            "           2       1.00      1.00      1.00        14\n",
            "           3       0.99      1.00      0.99        95\n",
            "           4       1.00      1.00      1.00      3583\n",
            "           5       1.00      1.00      1.00     14634\n",
            "           6       1.00      1.00      1.00     31864\n",
            "           7       1.00      1.00      1.00     39625\n",
            "\n",
            "    accuracy                           1.00     90311\n",
            "   macro avg       1.00      1.00      1.00     90311\n",
            "weighted avg       1.00      1.00      1.00     90311\n",
            "\n"
          ]
        }
      ]
    },
    {
      "cell_type": "markdown",
      "source": [
        "# Make Future Prediction"
      ],
      "metadata": {
        "id": "brmvhtcAjxBw"
      }
    },
    {
      "cell_type": "code",
      "source": [
        "data_upd = data[data['subcategory'] == 'UDP']\n",
        "data_upd = data_upd.iloc[::5, :]\n",
        "\n",
        "data_tcp = data[data['subcategory'] == 'TCP']"
      ],
      "metadata": {
        "id": "ok9Bs3G3j0DW"
      },
      "execution_count": null,
      "outputs": []
    },
    {
      "cell_type": "code",
      "source": [
        "test_data = data_tcp.iloc[0:2]"
      ],
      "metadata": {
        "id": "kPXZP1b3ZPsH"
      },
      "execution_count": null,
      "outputs": []
    },
    {
      "cell_type": "code",
      "source": [
        "test_data"
      ],
      "metadata": {
        "colab": {
          "base_uri": "https://localhost:8080/",
          "height": 205
        },
        "id": "9ucpmz5hZfSU",
        "outputId": "fd805c6e-5d90-4d60-8a18-5ec9449cea5a"
      },
      "execution_count": null,
      "outputs": [
        {
          "output_type": "execute_result",
          "data": {
            "text/plain": [
              "        pkSeqID         stime flgs  flgs_number proto  proto_number  \\\n",
              "198123     1486  1.528081e+09  e s            2   tcp             1   \n",
              "198124     1496  1.528081e+09  e s            2   tcp             1   \n",
              "\n",
              "                  saddr sport          daddr dport  ...  AR_P_Proto_P_DstIP  \\\n",
              "198123  192.168.100.147  2542  192.168.100.7    80  ...            0.449399   \n",
              "198124  192.168.100.147  2559  192.168.100.7    80  ...            0.449399   \n",
              "\n",
              "        N_IN_Conn_P_DstIP N_IN_Conn_P_SrcIP  AR_P_Proto_P_Sport  \\\n",
              "198123                 84                15            0.229268   \n",
              "198124                 84                15            0.229269   \n",
              "\n",
              "        AR_P_Proto_P_Dport  Pkts_P_State_P_Protocol_P_DestIP  \\\n",
              "198123            0.466451                                99   \n",
              "198124            0.466451                                99   \n",
              "\n",
              "        Pkts_P_State_P_Protocol_P_SrcIP  attack  category  subcategory  \n",
              "198123                               99       1       DoS          TCP  \n",
              "198124                               99       1       DoS          TCP  \n",
              "\n",
              "[2 rows x 46 columns]"
            ],
            "text/html": [
              "\n",
              "  <div id=\"df-b84cb0b9-ead5-4911-ace3-8d4e648590b1\">\n",
              "    <div class=\"colab-df-container\">\n",
              "      <div>\n",
              "<style scoped>\n",
              "    .dataframe tbody tr th:only-of-type {\n",
              "        vertical-align: middle;\n",
              "    }\n",
              "\n",
              "    .dataframe tbody tr th {\n",
              "        vertical-align: top;\n",
              "    }\n",
              "\n",
              "    .dataframe thead th {\n",
              "        text-align: right;\n",
              "    }\n",
              "</style>\n",
              "<table border=\"1\" class=\"dataframe\">\n",
              "  <thead>\n",
              "    <tr style=\"text-align: right;\">\n",
              "      <th></th>\n",
              "      <th>pkSeqID</th>\n",
              "      <th>stime</th>\n",
              "      <th>flgs</th>\n",
              "      <th>flgs_number</th>\n",
              "      <th>proto</th>\n",
              "      <th>proto_number</th>\n",
              "      <th>saddr</th>\n",
              "      <th>sport</th>\n",
              "      <th>daddr</th>\n",
              "      <th>dport</th>\n",
              "      <th>...</th>\n",
              "      <th>AR_P_Proto_P_DstIP</th>\n",
              "      <th>N_IN_Conn_P_DstIP</th>\n",
              "      <th>N_IN_Conn_P_SrcIP</th>\n",
              "      <th>AR_P_Proto_P_Sport</th>\n",
              "      <th>AR_P_Proto_P_Dport</th>\n",
              "      <th>Pkts_P_State_P_Protocol_P_DestIP</th>\n",
              "      <th>Pkts_P_State_P_Protocol_P_SrcIP</th>\n",
              "      <th>attack</th>\n",
              "      <th>category</th>\n",
              "      <th>subcategory</th>\n",
              "    </tr>\n",
              "  </thead>\n",
              "  <tbody>\n",
              "    <tr>\n",
              "      <th>198123</th>\n",
              "      <td>1486</td>\n",
              "      <td>1.528081e+09</td>\n",
              "      <td>e s</td>\n",
              "      <td>2</td>\n",
              "      <td>tcp</td>\n",
              "      <td>1</td>\n",
              "      <td>192.168.100.147</td>\n",
              "      <td>2542</td>\n",
              "      <td>192.168.100.7</td>\n",
              "      <td>80</td>\n",
              "      <td>...</td>\n",
              "      <td>0.449399</td>\n",
              "      <td>84</td>\n",
              "      <td>15</td>\n",
              "      <td>0.229268</td>\n",
              "      <td>0.466451</td>\n",
              "      <td>99</td>\n",
              "      <td>99</td>\n",
              "      <td>1</td>\n",
              "      <td>DoS</td>\n",
              "      <td>TCP</td>\n",
              "    </tr>\n",
              "    <tr>\n",
              "      <th>198124</th>\n",
              "      <td>1496</td>\n",
              "      <td>1.528081e+09</td>\n",
              "      <td>e s</td>\n",
              "      <td>2</td>\n",
              "      <td>tcp</td>\n",
              "      <td>1</td>\n",
              "      <td>192.168.100.147</td>\n",
              "      <td>2559</td>\n",
              "      <td>192.168.100.7</td>\n",
              "      <td>80</td>\n",
              "      <td>...</td>\n",
              "      <td>0.449399</td>\n",
              "      <td>84</td>\n",
              "      <td>15</td>\n",
              "      <td>0.229269</td>\n",
              "      <td>0.466451</td>\n",
              "      <td>99</td>\n",
              "      <td>99</td>\n",
              "      <td>1</td>\n",
              "      <td>DoS</td>\n",
              "      <td>TCP</td>\n",
              "    </tr>\n",
              "  </tbody>\n",
              "</table>\n",
              "<p>2 rows × 46 columns</p>\n",
              "</div>\n",
              "      <button class=\"colab-df-convert\" onclick=\"convertToInteractive('df-b84cb0b9-ead5-4911-ace3-8d4e648590b1')\"\n",
              "              title=\"Convert this dataframe to an interactive table.\"\n",
              "              style=\"display:none;\">\n",
              "        \n",
              "  <svg xmlns=\"http://www.w3.org/2000/svg\" height=\"24px\"viewBox=\"0 0 24 24\"\n",
              "       width=\"24px\">\n",
              "    <path d=\"M0 0h24v24H0V0z\" fill=\"none\"/>\n",
              "    <path d=\"M18.56 5.44l.94 2.06.94-2.06 2.06-.94-2.06-.94-.94-2.06-.94 2.06-2.06.94zm-11 1L8.5 8.5l.94-2.06 2.06-.94-2.06-.94L8.5 2.5l-.94 2.06-2.06.94zm10 10l.94 2.06.94-2.06 2.06-.94-2.06-.94-.94-2.06-.94 2.06-2.06.94z\"/><path d=\"M17.41 7.96l-1.37-1.37c-.4-.4-.92-.59-1.43-.59-.52 0-1.04.2-1.43.59L10.3 9.45l-7.72 7.72c-.78.78-.78 2.05 0 2.83L4 21.41c.39.39.9.59 1.41.59.51 0 1.02-.2 1.41-.59l7.78-7.78 2.81-2.81c.8-.78.8-2.07 0-2.86zM5.41 20L4 18.59l7.72-7.72 1.47 1.35L5.41 20z\"/>\n",
              "  </svg>\n",
              "      </button>\n",
              "      \n",
              "  <style>\n",
              "    .colab-df-container {\n",
              "      display:flex;\n",
              "      flex-wrap:wrap;\n",
              "      gap: 12px;\n",
              "    }\n",
              "\n",
              "    .colab-df-convert {\n",
              "      background-color: #E8F0FE;\n",
              "      border: none;\n",
              "      border-radius: 50%;\n",
              "      cursor: pointer;\n",
              "      display: none;\n",
              "      fill: #1967D2;\n",
              "      height: 32px;\n",
              "      padding: 0 0 0 0;\n",
              "      width: 32px;\n",
              "    }\n",
              "\n",
              "    .colab-df-convert:hover {\n",
              "      background-color: #E2EBFA;\n",
              "      box-shadow: 0px 1px 2px rgba(60, 64, 67, 0.3), 0px 1px 3px 1px rgba(60, 64, 67, 0.15);\n",
              "      fill: #174EA6;\n",
              "    }\n",
              "\n",
              "    [theme=dark] .colab-df-convert {\n",
              "      background-color: #3B4455;\n",
              "      fill: #D2E3FC;\n",
              "    }\n",
              "\n",
              "    [theme=dark] .colab-df-convert:hover {\n",
              "      background-color: #434B5C;\n",
              "      box-shadow: 0px 1px 3px 1px rgba(0, 0, 0, 0.15);\n",
              "      filter: drop-shadow(0px 1px 2px rgba(0, 0, 0, 0.3));\n",
              "      fill: #FFFFFF;\n",
              "    }\n",
              "  </style>\n",
              "\n",
              "      <script>\n",
              "        const buttonEl =\n",
              "          document.querySelector('#df-b84cb0b9-ead5-4911-ace3-8d4e648590b1 button.colab-df-convert');\n",
              "        buttonEl.style.display =\n",
              "          google.colab.kernel.accessAllowed ? 'block' : 'none';\n",
              "\n",
              "        async function convertToInteractive(key) {\n",
              "          const element = document.querySelector('#df-b84cb0b9-ead5-4911-ace3-8d4e648590b1');\n",
              "          const dataTable =\n",
              "            await google.colab.kernel.invokeFunction('convertToInteractive',\n",
              "                                                     [key], {});\n",
              "          if (!dataTable) return;\n",
              "\n",
              "          const docLinkHtml = 'Like what you see? Visit the ' +\n",
              "            '<a target=\"_blank\" href=https://colab.research.google.com/notebooks/data_table.ipynb>data table notebook</a>'\n",
              "            + ' to learn more about interactive tables.';\n",
              "          element.innerHTML = '';\n",
              "          dataTable['output_type'] = 'display_data';\n",
              "          await google.colab.output.renderOutput(dataTable, element);\n",
              "          const docLink = document.createElement('div');\n",
              "          docLink.innerHTML = docLinkHtml;\n",
              "          element.appendChild(docLink);\n",
              "        }\n",
              "      </script>\n",
              "    </div>\n",
              "  </div>\n",
              "  "
            ]
          },
          "metadata": {},
          "execution_count": 55
        }
      ]
    },
    {
      "cell_type": "code",
      "source": [
        "features_data_frame__attack = test_data[final_main_features_attack]\n",
        "\n",
        "sc = StandardScaler()\n",
        "X_train_attack = sc.fit_transform(X_train_attack)\n",
        "X_test_attack = sc.transform(features_data_frame__attack)\n",
        "\n",
        "predictions_xgb_attack = xgb_attack.predict(X_test_attack)\n",
        "predictions_xgb_attack"
      ],
      "metadata": {
        "colab": {
          "base_uri": "https://localhost:8080/",
          "height": 112
        },
        "id": "7B7XeFgrZwqb",
        "outputId": "54cc045f-8392-4633-a279-7ff745e1044e"
      },
      "execution_count": null,
      "outputs": [
        {
          "output_type": "execute_result",
          "data": {
            "text/plain": [
              "   attack\n",
              "0       1\n",
              "1       1"
            ],
            "text/html": [
              "\n",
              "  <div id=\"df-64f486a3-0bc6-416c-a426-22f013dbac62\">\n",
              "    <div class=\"colab-df-container\">\n",
              "      <div>\n",
              "<style scoped>\n",
              "    .dataframe tbody tr th:only-of-type {\n",
              "        vertical-align: middle;\n",
              "    }\n",
              "\n",
              "    .dataframe tbody tr th {\n",
              "        vertical-align: top;\n",
              "    }\n",
              "\n",
              "    .dataframe thead th {\n",
              "        text-align: right;\n",
              "    }\n",
              "</style>\n",
              "<table border=\"1\" class=\"dataframe\">\n",
              "  <thead>\n",
              "    <tr style=\"text-align: right;\">\n",
              "      <th></th>\n",
              "      <th>attack</th>\n",
              "    </tr>\n",
              "  </thead>\n",
              "  <tbody>\n",
              "    <tr>\n",
              "      <th>0</th>\n",
              "      <td>1</td>\n",
              "    </tr>\n",
              "    <tr>\n",
              "      <th>1</th>\n",
              "      <td>1</td>\n",
              "    </tr>\n",
              "  </tbody>\n",
              "</table>\n",
              "</div>\n",
              "      <button class=\"colab-df-convert\" onclick=\"convertToInteractive('df-64f486a3-0bc6-416c-a426-22f013dbac62')\"\n",
              "              title=\"Convert this dataframe to an interactive table.\"\n",
              "              style=\"display:none;\">\n",
              "        \n",
              "  <svg xmlns=\"http://www.w3.org/2000/svg\" height=\"24px\"viewBox=\"0 0 24 24\"\n",
              "       width=\"24px\">\n",
              "    <path d=\"M0 0h24v24H0V0z\" fill=\"none\"/>\n",
              "    <path d=\"M18.56 5.44l.94 2.06.94-2.06 2.06-.94-2.06-.94-.94-2.06-.94 2.06-2.06.94zm-11 1L8.5 8.5l.94-2.06 2.06-.94-2.06-.94L8.5 2.5l-.94 2.06-2.06.94zm10 10l.94 2.06.94-2.06 2.06-.94-2.06-.94-.94-2.06-.94 2.06-2.06.94z\"/><path d=\"M17.41 7.96l-1.37-1.37c-.4-.4-.92-.59-1.43-.59-.52 0-1.04.2-1.43.59L10.3 9.45l-7.72 7.72c-.78.78-.78 2.05 0 2.83L4 21.41c.39.39.9.59 1.41.59.51 0 1.02-.2 1.41-.59l7.78-7.78 2.81-2.81c.8-.78.8-2.07 0-2.86zM5.41 20L4 18.59l7.72-7.72 1.47 1.35L5.41 20z\"/>\n",
              "  </svg>\n",
              "      </button>\n",
              "      \n",
              "  <style>\n",
              "    .colab-df-container {\n",
              "      display:flex;\n",
              "      flex-wrap:wrap;\n",
              "      gap: 12px;\n",
              "    }\n",
              "\n",
              "    .colab-df-convert {\n",
              "      background-color: #E8F0FE;\n",
              "      border: none;\n",
              "      border-radius: 50%;\n",
              "      cursor: pointer;\n",
              "      display: none;\n",
              "      fill: #1967D2;\n",
              "      height: 32px;\n",
              "      padding: 0 0 0 0;\n",
              "      width: 32px;\n",
              "    }\n",
              "\n",
              "    .colab-df-convert:hover {\n",
              "      background-color: #E2EBFA;\n",
              "      box-shadow: 0px 1px 2px rgba(60, 64, 67, 0.3), 0px 1px 3px 1px rgba(60, 64, 67, 0.15);\n",
              "      fill: #174EA6;\n",
              "    }\n",
              "\n",
              "    [theme=dark] .colab-df-convert {\n",
              "      background-color: #3B4455;\n",
              "      fill: #D2E3FC;\n",
              "    }\n",
              "\n",
              "    [theme=dark] .colab-df-convert:hover {\n",
              "      background-color: #434B5C;\n",
              "      box-shadow: 0px 1px 3px 1px rgba(0, 0, 0, 0.15);\n",
              "      filter: drop-shadow(0px 1px 2px rgba(0, 0, 0, 0.3));\n",
              "      fill: #FFFFFF;\n",
              "    }\n",
              "  </style>\n",
              "\n",
              "      <script>\n",
              "        const buttonEl =\n",
              "          document.querySelector('#df-64f486a3-0bc6-416c-a426-22f013dbac62 button.colab-df-convert');\n",
              "        buttonEl.style.display =\n",
              "          google.colab.kernel.accessAllowed ? 'block' : 'none';\n",
              "\n",
              "        async function convertToInteractive(key) {\n",
              "          const element = document.querySelector('#df-64f486a3-0bc6-416c-a426-22f013dbac62');\n",
              "          const dataTable =\n",
              "            await google.colab.kernel.invokeFunction('convertToInteractive',\n",
              "                                                     [key], {});\n",
              "          if (!dataTable) return;\n",
              "\n",
              "          const docLinkHtml = 'Like what you see? Visit the ' +\n",
              "            '<a target=\"_blank\" href=https://colab.research.google.com/notebooks/data_table.ipynb>data table notebook</a>'\n",
              "            + ' to learn more about interactive tables.';\n",
              "          element.innerHTML = '';\n",
              "          dataTable['output_type'] = 'display_data';\n",
              "          await google.colab.output.renderOutput(dataTable, element);\n",
              "          const docLink = document.createElement('div');\n",
              "          docLink.innerHTML = docLinkHtml;\n",
              "          element.appendChild(docLink);\n",
              "        }\n",
              "      </script>\n",
              "    </div>\n",
              "  </div>\n",
              "  "
            ]
          },
          "metadata": {},
          "execution_count": 56
        }
      ]
    },
    {
      "cell_type": "code",
      "source": [
        "def make_future_prediction(test_data, X_train_attack, X_train_category, X_train_subcategory,\n",
        "                           final_main_features_attack, final_main_features_category, final_main_features_subcategory):\n",
        "\n",
        "  result = []\n",
        "\n",
        "  # X test attack\n",
        "  features_data_frame__attack = test_data[final_main_features_attack]\n",
        "\n",
        "  sc = StandardScaler()\n",
        "  X_train_attack = sc.fit_transform(X_train_attack)\n",
        "  X_test_attack = sc.transform(features_data_frame__attack)\n",
        "\n",
        "  predictions_xgb_attack = xgb_attack.predict(X_test_attack)\n",
        "  predictions_xgb_attack\n",
        "\n",
        "  # X test category\n",
        "  features_data_frame__category = test_data[final_main_features_category]\n",
        "  X_train_category = sc.fit_transform(X_train_category)\n",
        "  X_test_category = sc.transform(features_data_frame__category)\n",
        "\n",
        "  predictions_xgb_category = xgb_category.predict(X_test_category, xgb_attack, X_test_attack)\n",
        "  predictions_xgb_category\n",
        "\n",
        "  # X test sub category\n",
        "  features_data_frame__subcategory = test_data[final_main_features_subcategory]\n",
        "  X_train_subcategory = sc.fit_transform(X_train_subcategory)\n",
        "  X_test_subcategory = sc.transform(features_data_frame__subcategory)\n",
        "\n",
        "  predictions_xgb_subcategory = xgb_subcategory.predict(X_test_subcategory, xgb_attack, X_test_attack, xgb_category, X_test_category)\n",
        "  predictions_xgb_subcategory\n",
        "\n",
        "  return pd.concat([predictions_xgb_attack, predictions_xgb_category, predictions_xgb_subcategory], axis=1)\n"
      ],
      "metadata": {
        "id": "Zc1rd1ukkqAN"
      },
      "execution_count": null,
      "outputs": []
    },
    {
      "cell_type": "code",
      "source": [
        "result = make_future_prediction(test_data, X_train_attack, X_train_category, X_train_subcategory,\n",
        "                                final_main_features_attack, final_main_features_category, final_main_features_subcategory)\n",
        "\n",
        "print(result)"
      ],
      "metadata": {
        "id": "1erGfTHhqQ_g",
        "colab": {
          "base_uri": "https://localhost:8080/"
        },
        "outputId": "2418ab40-3a97-4163-817d-aabb32a5d67a"
      },
      "execution_count": null,
      "outputs": [
        {
          "output_type": "stream",
          "name": "stdout",
          "text": [
            "   attack  category  subcategory\n",
            "0       1         4            2\n",
            "1       1         4            2\n"
          ]
        }
      ]
    },
    {
      "cell_type": "code",
      "source": [],
      "metadata": {
        "id": "O-ZUUxqb2572"
      },
      "execution_count": null,
      "outputs": []
    }
  ],
  "metadata": {
    "colab": {
      "provenance": [],
      "toc_visible": true
    },
    "kernelspec": {
      "display_name": "Python 3",
      "language": "python",
      "name": "python3"
    },
    "language_info": {
      "codemirror_mode": {
        "name": "ipython",
        "version": 3
      },
      "file_extension": ".py",
      "mimetype": "text/x-python",
      "name": "python",
      "nbconvert_exporter": "python",
      "pygments_lexer": "ipython3",
      "version": "3.8.5"
    }
  },
  "nbformat": 4,
  "nbformat_minor": 0
}